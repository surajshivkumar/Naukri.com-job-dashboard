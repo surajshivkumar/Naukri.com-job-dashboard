{
 "cells": [
  {
   "cell_type": "code",
   "execution_count": 137,
   "id": "6bd08107",
   "metadata": {},
   "outputs": [],
   "source": [
    "from bs4 import BeautifulSoup\n",
    "import requests\n",
    "import csv\n",
    "from time import sleep\n",
    "from random import randint\n",
    "from datetime import datetime\n",
    "from selenium import webdriver\n",
    "import time\n",
    "import pandas as pd"
   ]
  },
  {
   "cell_type": "code",
   "execution_count": 138,
   "id": "d7336842",
   "metadata": {},
   "outputs": [],
   "source": [
    "def get_url(position, location):\n",
    "    position = position.replace(' ','-')\n",
    "    template = 'https://www.naukri.com/{}-jobs-in-{}'\n",
    "    url = template.format(position, location)\n",
    "    return url"
   ]
  },
  {
   "cell_type": "code",
   "execution_count": 139,
   "id": "4d6bc453",
   "metadata": {},
   "outputs": [],
   "source": [
    "url = get_url('software engineer','bangalore')"
   ]
  },
  {
   "cell_type": "code",
   "execution_count": 4,
   "id": "c610fa35",
   "metadata": {},
   "outputs": [
    {
     "name": "stdout",
     "output_type": "stream",
     "text": [
      "https://www.naukri.com/software-engineer-jobs-in-bangalore\n"
     ]
    }
   ],
   "source": [
    "print(url)"
   ]
  },
  {
   "cell_type": "code",
   "execution_count": 5,
   "id": "1549d0fe",
   "metadata": {},
   "outputs": [],
   "source": [
    "driver = webdriver.Chrome(\"C:\\\\Users\\\\Shivakumar\\\\Downloads\\\\chromedriver.exe\")\n",
    "driver.get(url)\n",
    "time.sleep(3)\n",
    "soup = BeautifulSoup(driver.page_source,'html5lib')\n",
    "#print(soup.prettify())\n",
    "driver.close()"
   ]
  },
  {
   "cell_type": "code",
   "execution_count": 6,
   "id": "db9822cd",
   "metadata": {},
   "outputs": [],
   "source": [
    "data = pd.DataFrame(columns=['Title','Company','Salary','Experience','Requirements','Posted'])"
   ]
  },
  {
   "cell_type": "code",
   "execution_count": 7,
   "id": "f515a87c",
   "metadata": {},
   "outputs": [
    {
     "data": {
      "text/html": [
       "<div>\n",
       "<style scoped>\n",
       "    .dataframe tbody tr th:only-of-type {\n",
       "        vertical-align: middle;\n",
       "    }\n",
       "\n",
       "    .dataframe tbody tr th {\n",
       "        vertical-align: top;\n",
       "    }\n",
       "\n",
       "    .dataframe thead th {\n",
       "        text-align: right;\n",
       "    }\n",
       "</style>\n",
       "<table border=\"1\" class=\"dataframe\">\n",
       "  <thead>\n",
       "    <tr style=\"text-align: right;\">\n",
       "      <th></th>\n",
       "      <th>Title</th>\n",
       "      <th>Company</th>\n",
       "      <th>Salary</th>\n",
       "      <th>Experience</th>\n",
       "      <th>Requirements</th>\n",
       "      <th>Posted</th>\n",
       "    </tr>\n",
       "  </thead>\n",
       "  <tbody>\n",
       "  </tbody>\n",
       "</table>\n",
       "</div>"
      ],
      "text/plain": [
       "Empty DataFrame\n",
       "Columns: [Title, Company, Salary, Experience, Requirements, Posted]\n",
       "Index: []"
      ]
     },
     "execution_count": 7,
     "metadata": {},
     "output_type": "execute_result"
    }
   ],
   "source": [
    "data"
   ]
  },
  {
   "cell_type": "code",
   "execution_count": 8,
   "id": "cbbbadaf",
   "metadata": {},
   "outputs": [],
   "source": [
    "jobs = soup.findAll('article',class_ = 'jobTuple')"
   ]
  },
  {
   "cell_type": "code",
   "execution_count": 9,
   "id": "0a92fdec",
   "metadata": {},
   "outputs": [
    {
     "data": {
      "text/plain": [
       "[<article class=\"jobTuple bgWhite br4 mb-8\" data-job-id=\"120721902688\"><div class=\"jobTupleHeader\"><div class=\"info fleft\"><a class=\"title fw500 ellipsis\" href=\"https://www.naukri.com/job-listings-sr-software-engineer-tech-mahindra-ltd-bangalore-bengaluru-5-to-10-years-120721902688?src=jobsearchDesk&amp;sid=16260785343639620&amp;xp=1&amp;px=1\" target=\"_blank\" title=\"Sr. Software Engineer\">Sr. Software Engineer</a><div class=\"mt-7 companyInfo subheading lh16\"><a class=\"subTitle ellipsis fleft\" href=\"https://www.naukri.com/tech-mahindra-jobs-careers-100007\" target=\"_blank\" title=\"Tech Mahindra Ltd.\">Tech Mahindra Ltd.</a><span class=\"starRating fleft dot\" title=\"Powered by Ambition Box\">3.6<i class=\"naukicon naukicon-saved ml-5 fright\"></i></span><a class=\"reviewsCount ml-5 fleft blue-text\" href=\"https://www.ambitionbox.com/reviews/tech-mahindra-reviews?utm_campaign=srp_ratings&amp;utm_medium=desktop&amp;utm_source=naukri?utm_campaign=srp_ratings&amp;utm_medium=desktop&amp;utm_source=naukri?utm_campaign=srp_ratings&amp;utm_medium=desktop&amp;utm_source=naukri\" target=\"_blank\" title=\"Powered by Ambition Box\">(11519 Reviews)</a></div><ul class=\"mt-7\"><li class=\"fleft grey-text br2 placeHolderLi experience\"><i class=\"fleft icon-16 lh16 mr-4 naukicon naukicon-experience\"></i><span class=\"ellipsis fleft fs12 lh16\" title=\"5-10 Yrs \">5-10 Yrs</span></li><li class=\"fleft grey-text br2 placeHolderLi salary\"><i class=\"fleft icon-16 lh16 mr-4 naukicon naukicon-rupee\"></i><span class=\"ellipsis fleft fs12 lh16\" title=\"Not disclosed \">Not disclosed</span></li><li class=\"fleft grey-text br2 placeHolderLi location\"><i class=\"fleft icon-16 lh16 mr-4 naukicon naukicon-location\"></i><span class=\"ellipsis fleft fs12 lh16\" title=\"Bangalore/Bengaluru \">Bangalore/Bengaluru</span></li></ul></div><div class=\"imgCont fright\"><img alt=\"company\" class=\"compImg fright\" src=\"https://img.naukri.com/logo_images/v3/100007.gif\"/></div></div><div class=\"job-description fs12 grey-text\"><i class=\"fleft icon-16 lh16 mr-4 naukicon naukicon-desc\"></i> Good understanding and experience in Cloud platforms GCP, AWS, Azure Solid understandin...</div><ul class=\"tags has-description\"><li class=\"fleft fs12 grey-text lh16 dot\">IT Skills</li><li class=\"fleft fs12 grey-text lh16 dot\">Java</li><li class=\"fleft fs12 grey-text lh16 dot\">Cloud</li><li class=\"fleft fs12 grey-text lh16 dot\">Node.js</li><li class=\"fleft fs12 grey-text lh16 dot\">AWS</li><li class=\"fleft fs12 grey-text lh16 dot\">Azure</li><li class=\"fleft fs12 grey-text lh16 dot\"> Azure </li><li class=\"fleft fs12 grey-text lh16 dot\"> AWS</li></ul><div class=\"jobTupleFooter mt-20\"><div class=\"jobType type fleft br2 mr-8\"><i class=\"fleft mr-4 fs11 naukicon naukicon-preferred\"></i><span class=\"fleft fw500\">PREFERRED</span></div><div class=\"type br2 fleft green\"><i class=\"fleft mr-4 fs11 naukicon naukicon-history\"></i><span class=\"fleft fw500\">Just Now</span></div><div class=\"saveJobContainer fright grey-text save\"><i class=\"fleft mr-4 icon-16 lh16 naukicon naukicon-save\"></i><span class=\"saveSpn fs12\">save</span></div></div></article>,\n",
       " <article class=\"jobTuple bgWhite br4 mb-8\" data-job-id=\"100721903522\"><div class=\"jobTupleHeader\"><div class=\"info fleft\"><a class=\"title fw500 ellipsis\" href=\"https://www.naukri.com/job-listings-sr-software-engineer-tech-mahindra-ltd-bangalore-bengaluru-3-to-8-years-100721903522?src=jobsearchDesk&amp;sid=16260785343639620&amp;xp=2&amp;px=1\" target=\"_blank\" title=\"Sr. Software Engineer\">Sr. Software Engineer</a><div class=\"mt-7 companyInfo subheading lh16\"><a class=\"subTitle ellipsis fleft\" href=\"https://www.naukri.com/tech-mahindra-jobs-careers-100007\" target=\"_blank\" title=\"Tech Mahindra Ltd.\">Tech Mahindra Ltd.</a><span class=\"starRating fleft dot\" title=\"Powered by Ambition Box\">3.6<i class=\"naukicon naukicon-saved ml-5 fright\"></i></span><a class=\"reviewsCount ml-5 fleft blue-text\" href=\"https://www.ambitionbox.com/reviews/tech-mahindra-reviews?utm_campaign=srp_ratings&amp;utm_medium=desktop&amp;utm_source=naukri?utm_campaign=srp_ratings&amp;utm_medium=desktop&amp;utm_source=naukri?utm_campaign=srp_ratings&amp;utm_medium=desktop&amp;utm_source=naukri\" target=\"_blank\" title=\"Powered by Ambition Box\">(11519 Reviews)</a></div><ul class=\"mt-7\"><li class=\"fleft grey-text br2 placeHolderLi experience\"><i class=\"fleft icon-16 lh16 mr-4 naukicon naukicon-experience\"></i><span class=\"ellipsis fleft fs12 lh16\" title=\"3-8 Yrs \">3-8 Yrs</span></li><li class=\"fleft grey-text br2 placeHolderLi salary\"><i class=\"fleft icon-16 lh16 mr-4 naukicon naukicon-rupee\"></i><span class=\"ellipsis fleft fs12 lh16\" title=\"Not disclosed \">Not disclosed</span></li><li class=\"fleft grey-text br2 placeHolderLi location\"><i class=\"fleft icon-16 lh16 mr-4 naukicon naukicon-location\"></i><span class=\"ellipsis fleft fs12 lh16\" title=\"Bangalore/Bengaluru \">Bangalore/Bengaluru</span></li></ul></div><div class=\"imgCont fright\"><img alt=\"company\" class=\"compImg fright\" src=\"https://img.naukri.com/logo_images/v3/100007.gif\"/></div></div><div class=\"job-description fs12 grey-text\"><i class=\"fleft icon-16 lh16 mr-4 naukicon naukicon-desc\"></i> Sr. Software EngineerSkill Set: NETWORK &amp; COMMUNICATIONSTotal Experience: 3.00 to 12.00...</div><ul class=\"tags has-description\"><li class=\"fleft fs12 grey-text lh16 dot\">Robot Framework</li><li class=\"fleft fs12 grey-text lh16 dot\">Jmeter Scripting</li><li class=\"fleft fs12 grey-text lh16 dot\">Python</li><li class=\"fleft fs12 grey-text lh16 dot\">Openstack</li><li class=\"fleft fs12 grey-text lh16 dot\">communication</li><li class=\"fleft fs12 grey-text lh16 dot\">JSON</li><li class=\"fleft fs12 grey-text lh16 dot\">gitHub</li><li class=\"fleft fs12 grey-text lh16 dot\">Jira</li></ul><div class=\"jobTupleFooter mt-20\"><div class=\"jobType type fleft br2 mr-8\"><i class=\"fleft mr-4 fs11 naukicon naukicon-preferred\"></i><span class=\"fleft fw500\">PREFERRED</span></div><div class=\"type br2 fleft green\"><i class=\"fleft mr-4 fs11 naukicon naukicon-history\"></i><span class=\"fleft fw500\">1 Day Ago</span></div><div class=\"saveJobContainer fright grey-text save\"><i class=\"fleft mr-4 icon-16 lh16 naukicon naukicon-save\"></i><span class=\"saveSpn fs12\">save</span></div></div></article>,\n",
       " <article class=\"jobTuple bgWhite br4 mb-8\" data-job-id=\"100721903515\"><div class=\"jobTupleHeader\"><div class=\"info fleft\"><a class=\"title fw500 ellipsis\" href=\"https://www.naukri.com/job-listings-sr-software-engineer-tech-mahindra-ltd-bangalore-bengaluru-3-to-8-years-100721903515?src=jobsearchDesk&amp;sid=16260785343639620&amp;xp=3&amp;px=1\" target=\"_blank\" title=\"Sr. Software Engineer\">Sr. Software Engineer</a><div class=\"mt-7 companyInfo subheading lh16\"><a class=\"subTitle ellipsis fleft\" href=\"https://www.naukri.com/tech-mahindra-jobs-careers-100007\" target=\"_blank\" title=\"Tech Mahindra Ltd.\">Tech Mahindra Ltd.</a><span class=\"starRating fleft dot\" title=\"Powered by Ambition Box\">3.6<i class=\"naukicon naukicon-saved ml-5 fright\"></i></span><a class=\"reviewsCount ml-5 fleft blue-text\" href=\"https://www.ambitionbox.com/reviews/tech-mahindra-reviews?utm_campaign=srp_ratings&amp;utm_medium=desktop&amp;utm_source=naukri?utm_campaign=srp_ratings&amp;utm_medium=desktop&amp;utm_source=naukri?utm_campaign=srp_ratings&amp;utm_medium=desktop&amp;utm_source=naukri\" target=\"_blank\" title=\"Powered by Ambition Box\">(11519 Reviews)</a></div><ul class=\"mt-7\"><li class=\"fleft grey-text br2 placeHolderLi experience\"><i class=\"fleft icon-16 lh16 mr-4 naukicon naukicon-experience\"></i><span class=\"ellipsis fleft fs12 lh16\" title=\"3-8 Yrs \">3-8 Yrs</span></li><li class=\"fleft grey-text br2 placeHolderLi salary\"><i class=\"fleft icon-16 lh16 mr-4 naukicon naukicon-rupee\"></i><span class=\"ellipsis fleft fs12 lh16\" title=\"Not disclosed \">Not disclosed</span></li><li class=\"fleft grey-text br2 placeHolderLi location\"><i class=\"fleft icon-16 lh16 mr-4 naukicon naukicon-location\"></i><span class=\"ellipsis fleft fs12 lh16\" title=\"Bangalore/Bengaluru \">Bangalore/Bengaluru</span></li></ul></div><div class=\"imgCont fright\"><img alt=\"company\" class=\"compImg fright\" src=\"https://img.naukri.com/logo_images/v3/100007.gif\"/></div></div><div class=\"job-description fs12 grey-text\"><i class=\"fleft icon-16 lh16 mr-4 naukicon naukicon-desc\"></i> Sr. Software EngineerSkill Set: DFMEA , FMEA , FTA , ITEM DEFINITION , SAFETY CASE , SY...</div><ul class=\"tags has-description\"><li class=\"fleft fs12 grey-text lh16 dot\">ITEM DEFINITION</li><li class=\"fleft fs12 grey-text lh16 dot\">FEA</li><li class=\"fleft fs12 grey-text lh16 dot\">FTA</li><li class=\"fleft fs12 grey-text lh16 dot\">FMEA FTA</li><li class=\"fleft fs12 grey-text lh16 dot\">SAFETY CASE</li><li class=\"fleft fs12 grey-text lh16 dot\">SYSTEM SAFETY</li><li class=\"fleft fs12 grey-text lh16 dot\">DFMEA</li><li class=\"fleft fs12 grey-text lh16 dot\">FMEA</li></ul><div class=\"jobTupleFooter mt-20\"><div class=\"jobType type fleft br2 mr-8\"><i class=\"fleft mr-4 fs11 naukicon naukicon-preferred\"></i><span class=\"fleft fw500\">PREFERRED</span></div><div class=\"type br2 fleft green\"><i class=\"fleft mr-4 fs11 naukicon naukicon-history\"></i><span class=\"fleft fw500\">1 Day Ago</span></div><div class=\"saveJobContainer fright grey-text save\"><i class=\"fleft mr-4 icon-16 lh16 naukicon naukicon-save\"></i><span class=\"saveSpn fs12\">save</span></div></div></article>,\n",
       " <article class=\"jobTuple bgWhite br4 mb-8\" data-job-id=\"100721500217\"><div class=\"jobTupleHeader\"><div class=\"info fleft\"><a class=\"title fw500 ellipsis\" href=\"https://www.naukri.com/job-listings-senior-software-engineer-altisource-business-solutions-pvt-ltd-bangalore-bengaluru-5-to-10-years-100721500217?src=jobsearchDesk&amp;sid=16260785343639620&amp;xp=4&amp;px=1\" target=\"_blank\" title=\"Senior Software Engineer\">Senior Software Engineer</a><div class=\"mt-7 companyInfo subheading lh16\"><a class=\"subTitle ellipsis fleft\" href=\"https://www.naukri.com/altisource-jobs-careers-1376060\" target=\"_blank\" title=\"Altisource Business Solutions Pvt Ltd\">Altisource Business Solutions Pvt Ltd</a><span class=\"starRating fleft dot\" title=\"Powered by Ambition Box\">3.5<i class=\"naukicon naukicon-saved ml-5 fright\"></i></span><a class=\"reviewsCount ml-5 fleft blue-text\" href=\"https://www.ambitionbox.com/reviews/altisource-reviews?utm_campaign=srp_ratings&amp;utm_medium=desktop&amp;utm_source=naukri\" target=\"_blank\" title=\"Powered by Ambition Box\">(643 Reviews)</a></div><ul class=\"mt-7\"><li class=\"fleft grey-text br2 placeHolderLi experience\"><i class=\"fleft icon-16 lh16 mr-4 naukicon naukicon-experience\"></i><span class=\"ellipsis fleft fs12 lh16\" title=\"5-10 Yrs \">5-10 Yrs</span></li><li class=\"fleft grey-text br2 placeHolderLi salary\"><i class=\"fleft icon-16 lh16 mr-4 naukicon naukicon-rupee\"></i><span class=\"ellipsis fleft fs12 lh16\" title=\"Not disclosed \">Not disclosed</span></li><li class=\"fleft grey-text br2 placeHolderLi location\"><i class=\"fleft icon-16 lh16 mr-4 naukicon naukicon-location\"></i><span class=\"ellipsis fleft fs12 lh16\" title=\"Bangalore/Bengaluru \">Bangalore/Bengaluru</span></li></ul></div><div class=\"imgCont fright\"><div class=\"lazyload-placeholder\"></div></div></div><div class=\"job-description fs12 grey-text\"><i class=\"fleft icon-16 lh16 mr-4 naukicon naukicon-desc\"></i> MySQL or other relational db experience 1+ years experience working in an AWS Cloud wit...</div><ul class=\"tags has-description\"><li class=\"fleft fs12 grey-text lh16 dot\">Java</li><li class=\"fleft fs12 grey-text lh16 dot\">Business Intelligence</li><li class=\"fleft fs12 grey-text lh16 dot\">Software Development</li><li class=\"fleft fs12 grey-text lh16 dot\">Mysql</li><li class=\"fleft fs12 grey-text lh16 dot\">Spring Framework</li><li class=\"fleft fs12 grey-text lh16 dot\">Spring Boot</li><li class=\"fleft fs12 grey-text lh16 dot\">Aws</li><li class=\"fleft fs12 grey-text lh16 dot\">Elastic Search</li></ul><div class=\"jobTupleFooter mt-20\"><div class=\"type br2 fleft green\"><i class=\"fleft mr-4 fs11 naukicon naukicon-history\"></i><span class=\"fleft fw500\">1 Day Ago</span></div><div class=\"saveJobContainer fright grey-text save\"><i class=\"fleft mr-4 icon-16 lh16 naukicon naukicon-save\"></i><span class=\"saveSpn fs12\">save</span></div></div></article>,\n",
       " <article class=\"jobTuple bgWhite br4 mb-8\" data-job-id=\"300321000676\"><div class=\"jobTupleHeader\"><div class=\"info fleft\"><a class=\"title fw500 ellipsis\" href=\"https://www.naukri.com/job-listings-software-engineer-sr-software-engineer-open-source-mindlogicx-infratec-ltd-bangalore-bengaluru-2-to-6-years-300321000676?src=jobsearchDesk&amp;sid=16260785343639620&amp;xp=5&amp;px=1\" target=\"_blank\" title=\"Software Engineer/Sr. Software Engineer - Open Source\">Software Engineer/Sr. Software Engineer - Open Source</a><div class=\"mt-7 companyInfo subheading lh16\"><a class=\"subTitle ellipsis fleft\" href=\"https://www.naukri.com/mindlogicx-infratec-jobs-careers-2836366\" target=\"_blank\" title=\"Mindlogicx Infratec Ltd\">Mindlogicx Infratec Ltd</a><span class=\"starRating fleft dot\" title=\"Powered by Ambition Box\">3.9<i class=\"naukicon naukicon-saved ml-5 fright\"></i></span><a class=\"reviewsCount ml-5 fleft blue-text\" href=\"https://www.ambitionbox.com/reviews/mindlogicx-infratec-reviews?utm_campaign=srp_ratings&amp;utm_medium=desktop&amp;utm_source=naukri?utm_campaign=srp_ratings&amp;utm_medium=desktop&amp;utm_source=naukri\" target=\"_blank\" title=\"Powered by Ambition Box\">(15 Reviews)</a></div><ul class=\"mt-7\"><li class=\"fleft grey-text br2 placeHolderLi experience\"><i class=\"fleft icon-16 lh16 mr-4 naukicon naukicon-experience\"></i><span class=\"ellipsis fleft fs12 lh16\" title=\"2-6 Yrs \">2-6 Yrs</span></li><li class=\"fleft grey-text br2 placeHolderLi salary\"><i class=\"fleft icon-16 lh16 mr-4 naukicon naukicon-rupee\"></i><span class=\"ellipsis fleft fs12 lh16\" title=\"Not disclosed \">Not disclosed</span></li><li class=\"fleft grey-text br2 placeHolderLi location\"><i class=\"fleft icon-16 lh16 mr-4 naukicon naukicon-location\"></i><span class=\"ellipsis fleft fs12 lh16\" title=\"Bangalore/Bengaluru(Hoodi) \">Bangalore/Bengaluru(Hoodi)</span></li></ul></div></div><div class=\"job-description fs12 grey-text\"><i class=\"fleft icon-16 lh16 mr-4 naukicon naukicon-desc\"></i> Having experience in development of heavy traffic web solutionDjango full stack develop...</div><ul class=\"tags has-description\"><li class=\"fleft fs12 grey-text lh16 dot\">Angularjs</li><li class=\"fleft fs12 grey-text lh16 dot\">css</li><li class=\"fleft fs12 grey-text lh16 dot\">Open Source</li><li class=\"fleft fs12 grey-text lh16 dot\">jQuery</li><li class=\"fleft fs12 grey-text lh16 dot\">LMS</li><li class=\"fleft fs12 grey-text lh16 dot\">Software Engineering</li><li class=\"fleft fs12 grey-text lh16 dot\">Django</li><li class=\"fleft fs12 grey-text lh16 dot\">Postgresql</li></ul><div class=\"jobTupleFooter mt-20\"><div class=\"jobType type fleft br2 mr-8\"><i class=\"fleft mr-4 fs11 naukicon naukicon-hot-jobs\"></i><span class=\"fleft fw500\">HOT JOB</span></div><div class=\"type br2 fleft grey\"><i class=\"fleft mr-4 fs11 naukicon naukicon-history\"></i><span class=\"fleft fw500\">2 Days Ago</span></div><div class=\"saveJobContainer fright grey-text save\"><i class=\"fleft mr-4 icon-16 lh16 naukicon naukicon-save\"></i><span class=\"saveSpn fs12\">save</span></div></div></article>,\n",
       " <article class=\"jobTuple bgWhite br4 mb-8\" data-job-id=\"120721900766\" style=\"\"><div class=\"jobTupleHeader\"><div class=\"info fleft\"><a class=\"title fw500 ellipsis\" href=\"https://www.naukri.com/job-listings-senior-software-engineer-wells-fargo-international-solutions-private-ltd-bangalore-bengaluru-10-to-15-years-120721900766?src=jobsearchDesk&amp;sid=16260785343639620&amp;xp=6&amp;px=1\" target=\"_blank\" title=\"Senior Software Engineer\">Senior Software Engineer</a><div class=\"mt-7 companyInfo subheading lh16\"><a class=\"subTitle ellipsis fleft\" href=\"https://www.naukri.com/wells-fargo-international-solutions-jobs-careers-135571\" target=\"_blank\" title=\"Wells Fargo International Solutions Private Ltd\">Wells Fargo International Solutions Private Ltd</a><span class=\"starRating fleft dot\" title=\"Powered by Ambition Box\">4.1<i class=\"naukicon naukicon-saved ml-5 fright\"></i></span><a class=\"reviewsCount ml-5 fleft blue-text\" href=\"https://www.ambitionbox.com/reviews/wells-fargo-reviews?utm_campaign=srp_ratings&amp;utm_medium=desktop&amp;utm_source=naukri\" target=\"_blank\" title=\"Powered by Ambition Box\">(1551 Reviews)</a></div><ul class=\"mt-7\"><li class=\"fleft grey-text br2 placeHolderLi experience\"><i class=\"fleft icon-16 lh16 mr-4 naukicon naukicon-experience\"></i><span class=\"ellipsis fleft fs12 lh16\" title=\"10-15 Yrs \">10-15 Yrs</span></li><li class=\"fleft grey-text br2 placeHolderLi salary\"><i class=\"fleft icon-16 lh16 mr-4 naukicon naukicon-rupee\"></i><span class=\"ellipsis fleft fs12 lh16\" title=\"Not disclosed \">Not disclosed</span></li><li class=\"fleft grey-text br2 placeHolderLi location\"><i class=\"fleft icon-16 lh16 mr-4 naukicon naukicon-location\"></i><span class=\"ellipsis fleft fs12 lh16\" title=\"Bangalore/Bengaluru \">Bangalore/Bengaluru</span></li></ul></div><div class=\"imgCont fright\"><div class=\"lazyload-placeholder\"></div></div></div><div class=\"job-description fs12 grey-text\"><i class=\"fleft icon-16 lh16 mr-4 naukicon naukicon-desc\"></i> About the RoleThe API Gateway requires subject matter expertise in the Apigee product, ...</div><ul class=\"tags has-description\"><li class=\"fleft fs12 grey-text lh16 dot\">IT Skills</li><li class=\"fleft fs12 grey-text lh16 dot\">Java</li><li class=\"fleft fs12 grey-text lh16 dot\">J2EE</li><li class=\"fleft fs12 grey-text lh16 dot\">Cloud</li><li class=\"fleft fs12 grey-text lh16 dot\">Oracle</li><li class=\"fleft fs12 grey-text lh16 dot\">Maven</li><li class=\"fleft fs12 grey-text lh16 dot\">Pcf</li><li class=\"fleft fs12 grey-text lh16 dot\">GIT</li></ul><div class=\"jobTupleFooter mt-20\"><div class=\"jobType type fleft br2 mr-8\"><i class=\"fleft mr-4 fs11 naukicon naukicon-preferred\"></i><span class=\"fleft fw500\">PREFERRED</span></div><div class=\"type br2 fleft green\"><i class=\"fleft mr-4 fs11 naukicon naukicon-history\"></i><span class=\"fleft fw500\">Few Hours Ago</span></div><div class=\"saveJobContainer fright grey-text save\"><i class=\"fleft mr-4 icon-16 lh16 naukicon naukicon-save\"></i><span class=\"saveSpn fs12\">save</span></div></div></article>,\n",
       " <article class=\"jobTuple bgWhite br4 mb-8\" data-job-id=\"100721500583\"><div class=\"jobTupleHeader\"><div class=\"info fleft\"><a class=\"title fw500 ellipsis\" href=\"https://www.naukri.com/job-listings-senior-software-engineer-informatica-bangalore-bengaluru-4-to-9-years-100721500583?src=jobsearchDesk&amp;sid=16260785343639620&amp;xp=7&amp;px=1\" target=\"_blank\" title=\"Senior Software Engineer\">Senior Software Engineer</a><div class=\"mt-7 companyInfo subheading lh16\"><a class=\"subTitle ellipsis fleft\" href=\"https://www.naukri.com/informatica-business-solutions-jobs-careers-11105\" target=\"_blank\" title=\"Informatica\">Informatica</a><span class=\"starRating fleft dot\" title=\"Powered by Ambition Box\">4.8<i class=\"naukicon naukicon-saved ml-5 fright\"></i></span><a class=\"reviewsCount ml-5 fleft blue-text\" href=\"https://www.ambitionbox.com/reviews/informatica-reviews?utm_campaign=srp_ratings&amp;utm_medium=desktop&amp;utm_source=naukri?utm_campaign=srp_ratings&amp;utm_medium=desktop&amp;utm_source=naukri?utm_campaign=srp_ratings&amp;utm_medium=desktop&amp;utm_source=naukri\" target=\"_blank\" title=\"Powered by Ambition Box\">(11 Reviews)</a></div><ul class=\"mt-7\"><li class=\"fleft grey-text br2 placeHolderLi experience\"><i class=\"fleft icon-16 lh16 mr-4 naukicon naukicon-experience\"></i><span class=\"ellipsis fleft fs12 lh16\" title=\"4-9 Yrs \">4-9 Yrs</span></li><li class=\"fleft grey-text br2 placeHolderLi salary\"><i class=\"fleft icon-16 lh16 mr-4 naukicon naukicon-rupee\"></i><span class=\"ellipsis fleft fs12 lh16\" title=\"Not disclosed \">Not disclosed</span></li><li class=\"fleft grey-text br2 placeHolderLi location\"><i class=\"fleft icon-16 lh16 mr-4 naukicon naukicon-location\"></i><span class=\"ellipsis fleft fs12 lh16\" title=\"Bangalore/Bengaluru \">Bangalore/Bengaluru</span></li></ul></div><div class=\"imgCont fright\"><div class=\"lazyload-placeholder\"></div></div></div><div class=\"job-description fs12 grey-text\"><i class=\"fleft icon-16 lh16 mr-4 naukicon naukicon-desc\"></i> Bachelor s or Master s in Computer Science or a related discipline with at least 4 year...</div><ul class=\"tags has-description\"><li class=\"fleft fs12 grey-text lh16 dot\">Product management</li><li class=\"fleft fs12 grey-text lh16 dot\">ERP</li><li class=\"fleft fs12 grey-text lh16 dot\">SAP</li><li class=\"fleft fs12 grey-text lh16 dot\">Linux</li><li class=\"fleft fs12 grey-text lh16 dot\">Management Staff</li><li class=\"fleft fs12 grey-text lh16 dot\">Data structures</li><li class=\"fleft fs12 grey-text lh16 dot\">Informatica</li><li class=\"fleft fs12 grey-text lh16 dot\">SDK</li></ul><div class=\"jobTupleFooter mt-20\"><div class=\"jobType type fleft br2 mr-8\"><i class=\"fleft mr-4 fs11 naukicon naukicon-premium\"></i><span class=\"fleft fw500\">PREMIUM</span></div><div class=\"type br2 fleft green\"><i class=\"fleft mr-4 fs11 naukicon naukicon-history\"></i><span class=\"fleft fw500\">1 Day Ago</span></div><div class=\"saveJobContainer fright grey-text save\"><i class=\"fleft mr-4 icon-16 lh16 naukicon naukicon-save\"></i><span class=\"saveSpn fs12\">save</span></div></div></article>,\n",
       " <article class=\"jobTuple bgWhite br4 mb-8\" data-job-id=\"100721500566\"><div class=\"jobTupleHeader\"><div class=\"info fleft\"><a class=\"title fw500 ellipsis\" href=\"https://www.naukri.com/job-listings-senior-software-engineer-informatica-bangalore-bengaluru-4-to-9-years-100721500566?src=jobsearchDesk&amp;sid=16260785343639620&amp;xp=8&amp;px=1\" target=\"_blank\" title=\"Senior Software Engineer\">Senior Software Engineer</a><div class=\"mt-7 companyInfo subheading lh16\"><a class=\"subTitle ellipsis fleft\" href=\"https://www.naukri.com/informatica-business-solutions-jobs-careers-11105\" target=\"_blank\" title=\"Informatica\">Informatica</a><span class=\"starRating fleft dot\" title=\"Powered by Ambition Box\">4.8<i class=\"naukicon naukicon-saved ml-5 fright\"></i></span><a class=\"reviewsCount ml-5 fleft blue-text\" href=\"https://www.ambitionbox.com/reviews/informatica-reviews?utm_campaign=srp_ratings&amp;utm_medium=desktop&amp;utm_source=naukri?utm_campaign=srp_ratings&amp;utm_medium=desktop&amp;utm_source=naukri?utm_campaign=srp_ratings&amp;utm_medium=desktop&amp;utm_source=naukri\" target=\"_blank\" title=\"Powered by Ambition Box\">(11 Reviews)</a></div><ul class=\"mt-7\"><li class=\"fleft grey-text br2 placeHolderLi experience\"><i class=\"fleft icon-16 lh16 mr-4 naukicon naukicon-experience\"></i><span class=\"ellipsis fleft fs12 lh16\" title=\"4-9 Yrs \">4-9 Yrs</span></li><li class=\"fleft grey-text br2 placeHolderLi salary\"><i class=\"fleft icon-16 lh16 mr-4 naukicon naukicon-rupee\"></i><span class=\"ellipsis fleft fs12 lh16\" title=\"Not disclosed \">Not disclosed</span></li><li class=\"fleft grey-text br2 placeHolderLi location\"><i class=\"fleft icon-16 lh16 mr-4 naukicon naukicon-location\"></i><span class=\"ellipsis fleft fs12 lh16\" title=\"Bangalore/Bengaluru \">Bangalore/Bengaluru</span></li></ul></div><div class=\"imgCont fright\"><div class=\"lazyload-placeholder\"></div></div></div><div class=\"job-description fs12 grey-text\"><i class=\"fleft icon-16 lh16 mr-4 naukicon naukicon-desc\"></i> 4+ years of enterprise software development experience, preferably with data-intensive ...</div><ul class=\"tags has-description\"><li class=\"fleft fs12 grey-text lh16 dot\">C++</li><li class=\"fleft fs12 grey-text lh16 dot\">jQuery</li><li class=\"fleft fs12 grey-text lh16 dot\">XML</li><li class=\"fleft fs12 grey-text lh16 dot\">Javascript</li><li class=\"fleft fs12 grey-text lh16 dot\">HTML</li><li class=\"fleft fs12 grey-text lh16 dot\">Application development</li><li class=\"fleft fs12 grey-text lh16 dot\">Informatica</li><li class=\"fleft fs12 grey-text lh16 dot\">MVC</li></ul><div class=\"jobTupleFooter mt-20\"><div class=\"jobType type fleft br2 mr-8\"><i class=\"fleft mr-4 fs11 naukicon naukicon-premium\"></i><span class=\"fleft fw500\">PREMIUM</span></div><div class=\"type br2 fleft green\"><i class=\"fleft mr-4 fs11 naukicon naukicon-history\"></i><span class=\"fleft fw500\">1 Day Ago</span></div><div class=\"saveJobContainer fright grey-text save\"><i class=\"fleft mr-4 icon-16 lh16 naukicon naukicon-save\"></i><span class=\"saveSpn fs12\">save</span></div></div></article>,\n",
       " <article class=\"jobTuple bgWhite br4 mb-8\" data-job-id=\"100721001183\"><div class=\"jobTupleHeader\"><div class=\"info fleft\"><a class=\"title fw500 ellipsis\" href=\"https://www.naukri.com/job-listings-senior-software-engineer-infolob-solutions-india-private-limited-bangalore-bengaluru-5-to-8-years-100721001183?src=jobsearchDesk&amp;sid=16260785343639620&amp;xp=9&amp;px=1\" target=\"_blank\" title=\"Senior Software Engineer\">Senior Software Engineer</a><div class=\"mt-7 companyInfo subheading lh16\"><a class=\"subTitle ellipsis fleft\" href=\"https://www.naukri.com/infolob-solutions-india-jobs-careers-4202016\" target=\"_blank\" title=\"INFOLOB SOLUTIONS INDIA PRIVATE LIMITED\">INFOLOB SOLUTIONS INDIA PRIVATE LIMITED</a></div><ul class=\"mt-7\"><li class=\"fleft grey-text br2 placeHolderLi experience\"><i class=\"fleft icon-16 lh16 mr-4 naukicon naukicon-experience\"></i><span class=\"ellipsis fleft fs12 lh16 expwdth\" title=\"5-8 Yrs \">5-8 Yrs</span></li><li class=\"fleft grey-text br2 placeHolderLi salary\"><i class=\"fleft icon-16 lh16 mr-4 naukicon naukicon-rupee\"></i><span class=\"ellipsis fleft fs12 lh16\" title=\"8,00,000 - 15,00,000 PA. \">8,00,000 - 15,00,000 PA.</span></li><li class=\"fleft grey-text br2 placeHolderLi location\"><i class=\"fleft icon-16 lh16 mr-4 naukicon naukicon-location\"></i><span class=\"ellipsis fleft fs12 lh16 halfwdt\" title=\"Bangalore/Bengaluru (WFH during Covid)\">Bangalore/Bengaluru</span><span class=\"fleft fs12 lh16 wfhwdt\" title=\"Bangalore/Bengaluru (WFH during Covid)\"><b>(WFH during Covid)</b></span></li></ul></div></div><div class=\"job-description fs12 grey-text\"><i class=\"fleft icon-16 lh16 mr-4 naukicon naukicon-desc\"></i> Duration: Full Time Bachelors degree in Business, Economics or related field a plus Min...</div><ul class=\"tags has-description\"><li class=\"fleft fs12 grey-text lh16 dot\">IT Skills</li><li class=\"fleft fs12 grey-text lh16 dot\">Software Development</li><li class=\"fleft fs12 grey-text lh16 dot\">Testing</li><li class=\"fleft fs12 grey-text lh16 dot\">C#</li><li class=\"fleft fs12 grey-text lh16 dot\">Oracle 9i</li><li class=\"fleft fs12 grey-text lh16 dot\">Formulas</li><li class=\"fleft fs12 grey-text lh16 dot\">software configuration</li><li class=\"fleft fs12 grey-text lh16 dot\">HTML</li></ul><div class=\"jobTupleFooter mt-20\"><div class=\"jobType type fleft br2 mr-8\"><i class=\"fleft mr-4 fs11 naukicon naukicon-hot-jobs\"></i><span class=\"fleft fw500\">HOT JOB</span></div><div class=\"type br2 fleft grey\"><i class=\"fleft mr-4 fs11 naukicon naukicon-history\"></i><span class=\"fleft fw500\">2 Days Ago</span></div><div class=\"saveJobContainer fright grey-text save\"><i class=\"fleft mr-4 icon-16 lh16 naukicon naukicon-save\"></i><span class=\"saveSpn fs12\">save</span></div></div></article>,\n",
       " <article class=\"jobTuple bgWhite br4 mb-8\" data-job-id=\"100721500544\"><div class=\"jobTupleHeader\"><div class=\"info fleft\"><a class=\"title fw500 ellipsis\" href=\"https://www.naukri.com/job-listings-senior-software-engineer-informatica-bangalore-bengaluru-4-to-9-years-100721500544?src=jobsearchDesk&amp;sid=16260785343639620&amp;xp=10&amp;px=1\" target=\"_blank\" title=\"Senior Software Engineer\">Senior Software Engineer</a><div class=\"mt-7 companyInfo subheading lh16\"><a class=\"subTitle ellipsis fleft\" href=\"https://www.naukri.com/informatica-business-solutions-jobs-careers-11105\" target=\"_blank\" title=\"Informatica\">Informatica</a><span class=\"starRating fleft dot\" title=\"Powered by Ambition Box\">4.8<i class=\"naukicon naukicon-saved ml-5 fright\"></i></span><a class=\"reviewsCount ml-5 fleft blue-text\" href=\"https://www.ambitionbox.com/reviews/informatica-reviews?utm_campaign=srp_ratings&amp;utm_medium=desktop&amp;utm_source=naukri?utm_campaign=srp_ratings&amp;utm_medium=desktop&amp;utm_source=naukri?utm_campaign=srp_ratings&amp;utm_medium=desktop&amp;utm_source=naukri\" target=\"_blank\" title=\"Powered by Ambition Box\">(11 Reviews)</a></div><ul class=\"mt-7\"><li class=\"fleft grey-text br2 placeHolderLi experience\"><i class=\"fleft icon-16 lh16 mr-4 naukicon naukicon-experience\"></i><span class=\"ellipsis fleft fs12 lh16\" title=\"4-9 Yrs \">4-9 Yrs</span></li><li class=\"fleft grey-text br2 placeHolderLi salary\"><i class=\"fleft icon-16 lh16 mr-4 naukicon naukicon-rupee\"></i><span class=\"ellipsis fleft fs12 lh16\" title=\"Not disclosed \">Not disclosed</span></li><li class=\"fleft grey-text br2 placeHolderLi location\"><i class=\"fleft icon-16 lh16 mr-4 naukicon naukicon-location\"></i><span class=\"ellipsis fleft fs12 lh16\" title=\"Bangalore/Bengaluru \">Bangalore/Bengaluru</span></li></ul></div><div class=\"imgCont fright\"><div class=\"lazyload-placeholder\"></div></div></div><div class=\"job-description fs12 grey-text\"><i class=\"fleft icon-16 lh16 mr-4 naukicon naukicon-desc\"></i> Additional Preferred Qualifications Experience with cloud native technologies such as K...</div><ul class=\"tags has-description\"><li class=\"fleft fs12 grey-text lh16 dot\">Core Java</li><li class=\"fleft fs12 grey-text lh16 dot\">Software Development</li><li class=\"fleft fs12 grey-text lh16 dot\">Azure</li><li class=\"fleft fs12 grey-text lh16 dot\">Design Patterns</li><li class=\"fleft fs12 grey-text lh16 dot\">Data Structures</li><li class=\"fleft fs12 grey-text lh16 dot\">Javascript</li><li class=\"fleft fs12 grey-text lh16 dot\">Aws</li><li class=\"fleft fs12 grey-text lh16 dot\">Microservices</li></ul><div class=\"jobTupleFooter mt-20\"><div class=\"jobType type fleft br2 mr-8\"><i class=\"fleft mr-4 fs11 naukicon naukicon-premium\"></i><span class=\"fleft fw500\">PREMIUM</span></div><div class=\"type br2 fleft green\"><i class=\"fleft mr-4 fs11 naukicon naukicon-history\"></i><span class=\"fleft fw500\">1 Day Ago</span></div><div class=\"saveJobContainer fright grey-text save\"><i class=\"fleft mr-4 icon-16 lh16 naukicon naukicon-save\"></i><span class=\"saveSpn fs12\">save</span></div></div></article>,\n",
       " <article class=\"jobTuple bgWhite br4 mb-8\" data-job-id=\"050421002135\" style=\"\"><div class=\"jobTupleHeader\"><div class=\"info fleft\"><a class=\"title fw500 ellipsis\" href=\"https://www.naukri.com/job-listings-sr-software-engineer-windows-mindlogicx-infratec-ltd-bangalore-bengaluru-4-to-8-years-050421002135?src=jobsearchDesk&amp;sid=16260785343639620&amp;xp=11&amp;px=1\" target=\"_blank\" title=\"Sr. Software Engineer Windows\">Sr. Software Engineer Windows</a><div class=\"mt-7 companyInfo subheading lh16\"><a class=\"subTitle ellipsis fleft\" href=\"https://www.naukri.com/mindlogicx-infratec-jobs-careers-2836366\" target=\"_blank\" title=\"Mindlogicx Infratec Ltd\">Mindlogicx Infratec Ltd</a><span class=\"starRating fleft dot\" title=\"Powered by Ambition Box\">3.9<i class=\"naukicon naukicon-saved ml-5 fright\"></i></span><a class=\"reviewsCount ml-5 fleft blue-text\" href=\"https://www.ambitionbox.com/reviews/mindlogicx-infratec-reviews?utm_campaign=srp_ratings&amp;utm_medium=desktop&amp;utm_source=naukri?utm_campaign=srp_ratings&amp;utm_medium=desktop&amp;utm_source=naukri\" target=\"_blank\" title=\"Powered by Ambition Box\">(15 Reviews)</a></div><ul class=\"mt-7\"><li class=\"fleft grey-text br2 placeHolderLi experience\"><i class=\"fleft icon-16 lh16 mr-4 naukicon naukicon-experience\"></i><span class=\"ellipsis fleft fs12 lh16\" title=\"4-8 Yrs \">4-8 Yrs</span></li><li class=\"fleft grey-text br2 placeHolderLi salary\"><i class=\"fleft icon-16 lh16 mr-4 naukicon naukicon-rupee\"></i><span class=\"ellipsis fleft fs12 lh16\" title=\"Not disclosed \">Not disclosed</span></li><li class=\"fleft grey-text br2 placeHolderLi location\"><i class=\"fleft icon-16 lh16 mr-4 naukicon naukicon-location\"></i><span class=\"ellipsis fleft fs12 lh16\" title=\"Bangalore/Bengaluru \">Bangalore/Bengaluru</span></li></ul></div></div><div class=\"job-description fs12 grey-text\"><i class=\"fleft icon-16 lh16 mr-4 naukicon naukicon-desc\"></i> Experience in .NET using Web and Window Application developmentTo participate in requir...</div><ul class=\"tags has-description\"><li class=\"fleft fs12 grey-text lh16 dot\">ASP Net</li><li class=\"fleft fs12 grey-text lh16 dot\">Java Script</li><li class=\"fleft fs12 grey-text lh16 dot\">Web Service</li><li class=\"fleft fs12 grey-text lh16 dot\">C#</li><li class=\"fleft fs12 grey-text lh16 dot\">Visual Studio 2010 / 2013 / 2015 / 2017</li><li class=\"fleft fs12 grey-text lh16 dot\">WCF</li><li class=\"fleft fs12 grey-text lh16 dot\">SDLC</li><li class=\"fleft fs12 grey-text lh16 dot\">jQuery</li></ul><div class=\"jobTupleFooter mt-20\"><div class=\"jobType type fleft br2 mr-8\"><i class=\"fleft mr-4 fs11 naukicon naukicon-hot-jobs\"></i><span class=\"fleft fw500\">HOT JOB</span></div><div class=\"type br2 fleft green\"><i class=\"fleft mr-4 fs11 naukicon naukicon-history\"></i><span class=\"fleft fw500\">Just Now</span></div><div class=\"saveJobContainer fright grey-text save\"><i class=\"fleft mr-4 icon-16 lh16 naukicon naukicon-save\"></i><span class=\"saveSpn fs12\">save</span></div></div></article>,\n",
       " <article class=\"jobTuple bgWhite br4 mb-8\" data-job-id=\"120721001754\"><div class=\"jobTupleHeader\"><div class=\"info fleft\"><a class=\"title fw500 ellipsis\" href=\"https://www.naukri.com/job-listings-senior-software-engineer-randstad-india-pvt-ltd-bangalore-bengaluru-5-to-8-years-120721001754?src=jobsearchDesk&amp;sid=16260785343639620&amp;xp=12&amp;px=1\" target=\"_blank\" title=\"Senior Software Engineer\">Senior Software Engineer</a><div class=\"mt-7 companyInfo subheading lh16\"><a class=\"subTitle ellipsis fleft\" href=\"https://www.naukri.com/randstad-india-jobs-careers-717\" target=\"_blank\" title=\"RANDSTAD INDIA PVT LTD\">RANDSTAD INDIA PVT LTD</a><span class=\"starRating fleft dot\" title=\"Powered by Ambition Box\">4.1<i class=\"naukicon naukicon-saved ml-5 fright\"></i></span><a class=\"reviewsCount ml-5 fleft blue-text\" href=\"https://www.ambitionbox.com/reviews/randstad-reviews?utm_campaign=srp_ratings&amp;utm_medium=desktop&amp;utm_source=naukri\" target=\"_blank\" title=\"Powered by Ambition Box\">(1144 Reviews)</a></div><ul class=\"mt-7\"><li class=\"fleft grey-text br2 placeHolderLi experience\"><i class=\"fleft icon-16 lh16 mr-4 naukicon naukicon-experience\"></i><span class=\"ellipsis fleft fs12 lh16 expwdth\" title=\"5-8 Yrs \">5-8 Yrs</span></li><li class=\"fleft grey-text br2 placeHolderLi salary\"><i class=\"fleft icon-16 lh16 mr-4 naukicon naukicon-rupee\"></i><span class=\"ellipsis fleft fs12 lh16\" title=\"Not disclosed \">Not disclosed</span></li><li class=\"fleft grey-text br2 placeHolderLi location\"><i class=\"fleft icon-16 lh16 mr-4 naukicon naukicon-location\"></i><span class=\"ellipsis fleft fs12 lh16 halfwdt\" title=\"Bangalore/Bengaluru (WFH during Covid)\">Bangalore/Bengaluru</span><span class=\"fleft fs12 lh16 wfhwdt\" title=\"Bangalore/Bengaluru (WFH during Covid)\"><b>(WFH during Covid)</b></span></li></ul></div><div class=\"imgCont fright\"><div class=\"lazyload-placeholder\"></div></div></div><div class=\"job-description fs12 grey-text\"><i class=\"fleft icon-16 lh16 mr-4 naukicon naukicon-desc\"></i> Shift: Day shift (5 days a week)Web Api (Good knowledge and exposure) Angular 2+ years ...</div><ul class=\"tags has-description\"><li class=\"fleft fs12 grey-text lh16 dot\">.Net Core</li><li class=\"fleft fs12 grey-text lh16 dot\">Angular</li><li class=\"fleft fs12 grey-text lh16 dot\">C#</li><li class=\"fleft fs12 grey-text lh16 dot\">Web Api</li><li class=\"fleft fs12 grey-text lh16 dot\">Database</li><li class=\"fleft fs12 grey-text lh16 dot\">MVC</li></ul><div class=\"jobTupleFooter mt-20\"><div class=\"jobType type fleft br2 mr-8\"><i class=\"fleft mr-4 fs11 naukicon naukicon-hot-jobs\"></i><span class=\"fleft fw500\">HOT JOB</span></div><div class=\"type br2 fleft green\"><i class=\"fleft mr-4 fs11 naukicon naukicon-history\"></i><span class=\"fleft fw500\">Just Now</span></div><div class=\"saveJobContainer fright grey-text save\"><i class=\"fleft mr-4 icon-16 lh16 naukicon naukicon-save\"></i><span class=\"saveSpn fs12\">save</span></div></div></article>,\n",
       " <article class=\"jobTuple bgWhite br4 mb-8\" data-job-id=\"100721500452\"><div class=\"jobTupleHeader\"><div class=\"info fleft\"><a class=\"title fw500 ellipsis\" href=\"https://www.naukri.com/job-listings-sr-software-engineer-g7-cr-technologies-india-pvt-ltd-bangalore-bengaluru-3-to-5-years-100721500452?src=jobsearchDesk&amp;sid=16260785343639620&amp;xp=13&amp;px=1\" target=\"_blank\" title=\"Sr. Software Engineer\">Sr. Software Engineer</a><div class=\"mt-7 companyInfo subheading lh16\"><a class=\"subTitle ellipsis fleft\" href=\"https://www.naukri.com/g7-cr-technologies-india-jobs-careers-1972230\" target=\"_blank\" title=\"G7 CR Technologies India Pvt. Ltd.\">G7 CR Technologies India Pvt. Ltd.</a><span class=\"starRating fleft dot\" title=\"Powered by Ambition Box\">3.4<i class=\"naukicon naukicon-saved ml-5 fright\"></i></span><a class=\"reviewsCount ml-5 fleft blue-text\" href=\"https://www.ambitionbox.com/reviews/g7-cr-technologies-reviews?utm_campaign=srp_ratings&amp;utm_medium=desktop&amp;utm_source=naukri\" target=\"_blank\" title=\"Powered by Ambition Box\">(89 Reviews)</a></div><ul class=\"mt-7\"><li class=\"fleft grey-text br2 placeHolderLi experience\"><i class=\"fleft icon-16 lh16 mr-4 naukicon naukicon-experience\"></i><span class=\"ellipsis fleft fs12 lh16\" title=\"3-5 Yrs \">3-5 Yrs</span></li><li class=\"fleft grey-text br2 placeHolderLi salary\"><i class=\"fleft icon-16 lh16 mr-4 naukicon naukicon-rupee\"></i><span class=\"ellipsis fleft fs12 lh16\" title=\"Not disclosed \">Not disclosed</span></li><li class=\"fleft grey-text br2 placeHolderLi location\"><i class=\"fleft icon-16 lh16 mr-4 naukicon naukicon-location\"></i><span class=\"ellipsis fleft fs12 lh16\" title=\"Bangalore/Bengaluru \">Bangalore/Bengaluru</span></li></ul></div></div><div class=\"job-description fs12 grey-text\"><i class=\"fleft icon-16 lh16 mr-4 naukicon naukicon-desc\"></i> Graduate in BCA / MCA Ability to understand current market trends and position the prod...</div><ul class=\"tags has-description\"><li class=\"fleft fs12 grey-text lh16 dot\">Microsoft Office</li><li class=\"fleft fs12 grey-text lh16 dot\">Lead Generation</li><li class=\"fleft fs12 grey-text lh16 dot\">Sales</li><li class=\"fleft fs12 grey-text lh16 dot\">Software Services</li><li class=\"fleft fs12 grey-text lh16 dot\">Customer Satisfaction</li><li class=\"fleft fs12 grey-text lh16 dot\">Exhibitions</li><li class=\"fleft fs12 grey-text lh16 dot\">Marketing</li><li class=\"fleft fs12 grey-text lh16 dot\">Customer Acquisition</li></ul><div class=\"jobTupleFooter mt-20\"><div class=\"type br2 fleft green\"><i class=\"fleft mr-4 fs11 naukicon naukicon-history\"></i><span class=\"fleft fw500\">1 Day Ago</span></div><div class=\"saveJobContainer fright grey-text save\"><i class=\"fleft mr-4 icon-16 lh16 naukicon naukicon-save\"></i><span class=\"saveSpn fs12\">save</span></div></div></article>,\n",
       " <article class=\"jobTuple bgWhite br4 mb-8\" data-job-id=\"050721906139\"><div class=\"jobTupleHeader\"><div class=\"info fleft\"><a class=\"title fw500 ellipsis\" href=\"https://www.naukri.com/job-listings-cloudiq-senior-software-engineer-cloud-india-dell-international-services-india-private-limited-bangalore-bengaluru-6-to-8-years-050721906139?src=jobsearchDesk&amp;sid=16260785343639620&amp;xp=14&amp;px=1\" target=\"_blank\" title=\"CloudIQ Senior Software Engineer - Cloud India\">CloudIQ Senior Software Engineer - Cloud India</a><div class=\"mt-7 companyInfo subheading lh16\"><a class=\"subTitle ellipsis fleft\" href=\"https://www.naukri.com/dell-international-services-india-jobs-careers-27614\" target=\"_blank\" title=\"Dell International Services India  Private Limited\">Dell International Services India  Private Limited</a><span class=\"starRating fleft dot\" title=\"Powered by Ambition Box\">4.0<i class=\"naukicon naukicon-saved ml-5 fright\"></i></span><a class=\"reviewsCount ml-5 fleft blue-text\" href=\"https://www.ambitionbox.com/reviews/dell-reviews?utm_campaign=srp_ratings&amp;utm_medium=desktop&amp;utm_source=naukri?utm_campaign=srp_ratings&amp;utm_medium=desktop&amp;utm_source=naukri?utm_campaign=srp_ratings&amp;utm_medium=desktop&amp;utm_source=naukri?utm_campaign=srp_ratings&amp;utm_medium=desktop&amp;utm_source=naukri?utm_campaign=srp_ratings&amp;utm_medium=desktop&amp;utm_source=naukri?utm_campaign=srp_ratings&amp;utm_medium=desktop&amp;utm_source=naukri?utm_campaign=srp_ratings&amp;utm_medium=desktop&amp;utm_source=naukri\" target=\"_blank\" title=\"Powered by Ambition Box\">(1770 Reviews)</a></div><ul class=\"mt-7\"><li class=\"fleft grey-text br2 placeHolderLi experience\"><i class=\"fleft icon-16 lh16 mr-4 naukicon naukicon-experience\"></i><span class=\"ellipsis fleft fs12 lh16\" title=\"6-8 Yrs \">6-8 Yrs</span></li><li class=\"fleft grey-text br2 placeHolderLi salary\"><i class=\"fleft icon-16 lh16 mr-4 naukicon naukicon-rupee\"></i><span class=\"ellipsis fleft fs12 lh16\" title=\"Not disclosed \">Not disclosed</span></li><li class=\"fleft grey-text br2 placeHolderLi location\"><i class=\"fleft icon-16 lh16 mr-4 naukicon naukicon-location\"></i><span class=\"ellipsis fleft fs12 lh16\" title=\"Bangalore/Bengaluru \">Bangalore/Bengaluru</span></li></ul></div><div class=\"imgCont fright\"><div class=\"lazyload-placeholder\"></div></div></div><div class=\"job-description fs12 grey-text\"><i class=\"fleft icon-16 lh16 mr-4 naukicon naukicon-desc\"></i> Very good problem solving and analytical skills Experience with cloud platforms or plat...</div><ul class=\"tags has-description\"><li class=\"fleft fs12 grey-text lh16 dot\">Rabbitmq</li><li class=\"fleft fs12 grey-text lh16 dot\">CSS</li><li class=\"fleft fs12 grey-text lh16 dot\">Front End</li><li class=\"fleft fs12 grey-text lh16 dot\">Web Technologies</li><li class=\"fleft fs12 grey-text lh16 dot\">Javascript</li><li class=\"fleft fs12 grey-text lh16 dot\">Redis</li><li class=\"fleft fs12 grey-text lh16 dot\">HTML</li><li class=\"fleft fs12 grey-text lh16 dot\">JSON</li></ul><div class=\"jobTupleFooter mt-20\"><div class=\"jobType type fleft br2 mr-8\"><i class=\"fleft mr-4 fs11 naukicon naukicon-hot-jobs\"></i><span class=\"fleft fw500\">HOT JOB</span></div><div class=\"type br2 fleft grey\"><i class=\"fleft mr-4 fs11 naukicon naukicon-history\"></i><span class=\"fleft fw500\">6 Days Ago</span></div><div class=\"saveJobContainer fright grey-text save\"><i class=\"fleft mr-4 icon-16 lh16 naukicon naukicon-save\"></i><span class=\"saveSpn fs12\">save</span></div></div></article>,\n",
       " <article class=\"jobTuple bgWhite br4 mb-8\" data-job-id=\"050721905699\"><div class=\"jobTupleHeader\"><div class=\"info fleft\"><a class=\"title fw500 ellipsis\" href=\"https://www.naukri.com/job-listings-senior-software-engineer-snapshot-technology-dell-international-services-india-private-limited-bangalore-bengaluru-5-to-8-years-050721905699?src=jobsearchDesk&amp;sid=16260785343639620&amp;xp=15&amp;px=1\" target=\"_blank\" title=\"Senior Software Engineer ( Snapshot Technology)\">Senior Software Engineer ( Snapshot Technology)</a><div class=\"mt-7 companyInfo subheading lh16\"><a class=\"subTitle ellipsis fleft\" href=\"https://www.naukri.com/dell-international-services-india-jobs-careers-27614\" target=\"_blank\" title=\"Dell International Services India  Private Limited\">Dell International Services India  Private Limited</a><span class=\"starRating fleft dot\" title=\"Powered by Ambition Box\">4.0<i class=\"naukicon naukicon-saved ml-5 fright\"></i></span><a class=\"reviewsCount ml-5 fleft blue-text\" href=\"https://www.ambitionbox.com/reviews/dell-reviews?utm_campaign=srp_ratings&amp;utm_medium=desktop&amp;utm_source=naukri?utm_campaign=srp_ratings&amp;utm_medium=desktop&amp;utm_source=naukri?utm_campaign=srp_ratings&amp;utm_medium=desktop&amp;utm_source=naukri?utm_campaign=srp_ratings&amp;utm_medium=desktop&amp;utm_source=naukri?utm_campaign=srp_ratings&amp;utm_medium=desktop&amp;utm_source=naukri?utm_campaign=srp_ratings&amp;utm_medium=desktop&amp;utm_source=naukri?utm_campaign=srp_ratings&amp;utm_medium=desktop&amp;utm_source=naukri\" target=\"_blank\" title=\"Powered by Ambition Box\">(1770 Reviews)</a></div><ul class=\"mt-7\"><li class=\"fleft grey-text br2 placeHolderLi experience\"><i class=\"fleft icon-16 lh16 mr-4 naukicon naukicon-experience\"></i><span class=\"ellipsis fleft fs12 lh16\" title=\"5-8 Yrs \">5-8 Yrs</span></li><li class=\"fleft grey-text br2 placeHolderLi salary\"><i class=\"fleft icon-16 lh16 mr-4 naukicon naukicon-rupee\"></i><span class=\"ellipsis fleft fs12 lh16\" title=\"Not disclosed \">Not disclosed</span></li><li class=\"fleft grey-text br2 placeHolderLi location\"><i class=\"fleft icon-16 lh16 mr-4 naukicon naukicon-location\"></i><span class=\"ellipsis fleft fs12 lh16\" title=\"Bangalore/Bengaluru \">Bangalore/Bengaluru</span></li></ul></div><div class=\"imgCont fright\"><div class=\"lazyload-placeholder\"></div></div></div><div class=\"job-description fs12 grey-text\"><i class=\"fleft icon-16 lh16 mr-4 naukicon naukicon-desc\"></i> Capacity to achieve proficiency of new tools, languages and operating systems with trai...</div><ul class=\"tags has-description\"><li class=\"fleft fs12 grey-text lh16 dot\">embedded firmware</li><li class=\"fleft fs12 grey-text lh16 dot\">Unix</li><li class=\"fleft fs12 grey-text lh16 dot\">application administration</li><li class=\"fleft fs12 grey-text lh16 dot\">embedded software</li><li class=\"fleft fs12 grey-text lh16 dot\"> C</li><li class=\"fleft fs12 grey-text lh16 dot\">GDB</li><li class=\"fleft fs12 grey-text lh16 dot\">operating system programming</li><li class=\"fleft fs12 grey-text lh16 dot\"> Perl Scripts </li></ul><div class=\"jobTupleFooter mt-20\"><div class=\"jobType type fleft br2 mr-8\"><i class=\"fleft mr-4 fs11 naukicon naukicon-hot-jobs\"></i><span class=\"fleft fw500\">HOT JOB</span></div><div class=\"type br2 fleft grey\"><i class=\"fleft mr-4 fs11 naukicon naukicon-history\"></i><span class=\"fleft fw500\">6 Days Ago</span></div><div class=\"saveJobContainer fright grey-text save\"><i class=\"fleft mr-4 icon-16 lh16 naukicon naukicon-save\"></i><span class=\"saveSpn fs12\">save</span></div></div></article>,\n",
       " <article class=\"jobTuple bgWhite br4 mb-8\" data-job-id=\"050721905698\" style=\"\"><div class=\"jobTupleHeader\"><div class=\"info fleft\"><a class=\"title fw500 ellipsis\" href=\"https://www.naukri.com/job-listings-senior-software-engineer-dell-international-services-india-private-limited-bangalore-bengaluru-5-to-9-years-050721905698?src=jobsearchDesk&amp;sid=16260785343639620&amp;xp=16&amp;px=1\" target=\"_blank\" title=\"Senior Software Engineer\">Senior Software Engineer</a><div class=\"mt-7 companyInfo subheading lh16\"><a class=\"subTitle ellipsis fleft\" href=\"https://www.naukri.com/dell-international-services-india-jobs-careers-27614\" target=\"_blank\" title=\"Dell International Services India  Private Limited\">Dell International Services India  Private Limited</a><span class=\"starRating fleft dot\" title=\"Powered by Ambition Box\">4.0<i class=\"naukicon naukicon-saved ml-5 fright\"></i></span><a class=\"reviewsCount ml-5 fleft blue-text\" href=\"https://www.ambitionbox.com/reviews/dell-reviews?utm_campaign=srp_ratings&amp;utm_medium=desktop&amp;utm_source=naukri?utm_campaign=srp_ratings&amp;utm_medium=desktop&amp;utm_source=naukri?utm_campaign=srp_ratings&amp;utm_medium=desktop&amp;utm_source=naukri?utm_campaign=srp_ratings&amp;utm_medium=desktop&amp;utm_source=naukri?utm_campaign=srp_ratings&amp;utm_medium=desktop&amp;utm_source=naukri?utm_campaign=srp_ratings&amp;utm_medium=desktop&amp;utm_source=naukri?utm_campaign=srp_ratings&amp;utm_medium=desktop&amp;utm_source=naukri\" target=\"_blank\" title=\"Powered by Ambition Box\">(1770 Reviews)</a></div><ul class=\"mt-7\"><li class=\"fleft grey-text br2 placeHolderLi experience\"><i class=\"fleft icon-16 lh16 mr-4 naukicon naukicon-experience\"></i><span class=\"ellipsis fleft fs12 lh16\" title=\"5-9 Yrs \">5-9 Yrs</span></li><li class=\"fleft grey-text br2 placeHolderLi salary\"><i class=\"fleft icon-16 lh16 mr-4 naukicon naukicon-rupee\"></i><span class=\"ellipsis fleft fs12 lh16\" title=\"Not disclosed \">Not disclosed</span></li><li class=\"fleft grey-text br2 placeHolderLi location\"><i class=\"fleft icon-16 lh16 mr-4 naukicon naukicon-location\"></i><span class=\"ellipsis fleft fs12 lh16\" title=\"Bangalore/Bengaluru \">Bangalore/Bengaluru</span></li></ul></div><div class=\"imgCont fright\"><div class=\"lazyload-placeholder\"></div></div></div><div class=\"job-description fs12 grey-text\"><i class=\"fleft icon-16 lh16 mr-4 naukicon naukicon-desc\"></i> IT Senior Software Engineer Be a part of a team that's ensuring Dell Technologies' prod...</div><ul class=\"tags has-description\"><li class=\"fleft fs12 grey-text lh16 dot\"> Spring Boot</li><li class=\"fleft fs12 grey-text lh16 dot\"> Cucumber </li><li class=\"fleft fs12 grey-text lh16 dot\"> Contivo</li><li class=\"fleft fs12 grey-text lh16 dot\">Kafka</li><li class=\"fleft fs12 grey-text lh16 dot\"> IBM MQ</li><li class=\"fleft fs12 grey-text lh16 dot\">Rabbit MQ</li><li class=\"fleft fs12 grey-text lh16 dot\">Git</li><li class=\"fleft fs12 grey-text lh16 dot\"> WMQ</li></ul><div class=\"jobTupleFooter mt-20\"><div class=\"jobType type fleft br2 mr-8\"><i class=\"fleft mr-4 fs11 naukicon naukicon-hot-jobs\"></i><span class=\"fleft fw500\">HOT JOB</span></div><div class=\"type br2 fleft grey\"><i class=\"fleft mr-4 fs11 naukicon naukicon-history\"></i><span class=\"fleft fw500\">6 Days Ago</span></div><div class=\"saveJobContainer fright grey-text save\"><i class=\"fleft mr-4 icon-16 lh16 naukicon naukicon-save\"></i><span class=\"saveSpn fs12\">save</span></div></div></article>,\n",
       " <article class=\"jobTuple bgWhite br4 mb-8\" data-job-id=\"050721905382\"><div class=\"jobTupleHeader\"><div class=\"info fleft\"><a class=\"title fw500 ellipsis\" href=\"https://www.naukri.com/job-listings-ctio-senior-software-engineer-dell-international-services-india-private-limited-bangalore-bengaluru-5-to-10-years-050721905382?src=jobsearchDesk&amp;sid=16260785343639620&amp;xp=17&amp;px=1\" target=\"_blank\" title=\"CTIO Senior Software Engineer\">CTIO Senior Software Engineer</a><div class=\"mt-7 companyInfo subheading lh16\"><a class=\"subTitle ellipsis fleft\" href=\"https://www.naukri.com/dell-international-services-india-jobs-careers-27614\" target=\"_blank\" title=\"Dell International Services India  Private Limited\">Dell International Services India  Private Limited</a><span class=\"starRating fleft dot\" title=\"Powered by Ambition Box\">4.0<i class=\"naukicon naukicon-saved ml-5 fright\"></i></span><a class=\"reviewsCount ml-5 fleft blue-text\" href=\"https://www.ambitionbox.com/reviews/dell-reviews?utm_campaign=srp_ratings&amp;utm_medium=desktop&amp;utm_source=naukri?utm_campaign=srp_ratings&amp;utm_medium=desktop&amp;utm_source=naukri?utm_campaign=srp_ratings&amp;utm_medium=desktop&amp;utm_source=naukri?utm_campaign=srp_ratings&amp;utm_medium=desktop&amp;utm_source=naukri?utm_campaign=srp_ratings&amp;utm_medium=desktop&amp;utm_source=naukri?utm_campaign=srp_ratings&amp;utm_medium=desktop&amp;utm_source=naukri?utm_campaign=srp_ratings&amp;utm_medium=desktop&amp;utm_source=naukri\" target=\"_blank\" title=\"Powered by Ambition Box\">(1770 Reviews)</a></div><ul class=\"mt-7\"><li class=\"fleft grey-text br2 placeHolderLi experience\"><i class=\"fleft icon-16 lh16 mr-4 naukicon naukicon-experience\"></i><span class=\"ellipsis fleft fs12 lh16\" title=\"5-10 Yrs \">5-10 Yrs</span></li><li class=\"fleft grey-text br2 placeHolderLi salary\"><i class=\"fleft icon-16 lh16 mr-4 naukicon naukicon-rupee\"></i><span class=\"ellipsis fleft fs12 lh16\" title=\"Not disclosed \">Not disclosed</span></li><li class=\"fleft grey-text br2 placeHolderLi location\"><i class=\"fleft icon-16 lh16 mr-4 naukicon naukicon-location\"></i><span class=\"ellipsis fleft fs12 lh16\" title=\"Bangalore/Bengaluru \">Bangalore/Bengaluru</span></li></ul></div><div class=\"imgCont fright\"><div class=\"lazyload-placeholder\"></div></div></div><div class=\"job-description fs12 grey-text\"><i class=\"fleft icon-16 lh16 mr-4 naukicon naukicon-desc\"></i> What you'll achieveThe role of the CTIO Senior Software Engineer is to be a key member ...</div><ul class=\"tags has-description\"><li class=\"fleft fs12 grey-text lh16 dot\">Java</li><li class=\"fleft fs12 grey-text lh16 dot\">Software Development</li><li class=\"fleft fs12 grey-text lh16 dot\">Cloud Foundry</li><li class=\"fleft fs12 grey-text lh16 dot\">Artificial Intelligence</li><li class=\"fleft fs12 grey-text lh16 dot\">Go</li><li class=\"fleft fs12 grey-text lh16 dot\">Javascript</li><li class=\"fleft fs12 grey-text lh16 dot\">Bash</li><li class=\"fleft fs12 grey-text lh16 dot\">Machine Learning</li></ul><div class=\"jobTupleFooter mt-20\"><div class=\"jobType type fleft br2 mr-8\"><i class=\"fleft mr-4 fs11 naukicon naukicon-hot-jobs\"></i><span class=\"fleft fw500\">HOT JOB</span></div><div class=\"type br2 fleft grey\"><i class=\"fleft mr-4 fs11 naukicon naukicon-history\"></i><span class=\"fleft fw500\">6 Days Ago</span></div><div class=\"saveJobContainer fright grey-text save\"><i class=\"fleft mr-4 icon-16 lh16 naukicon naukicon-save\"></i><span class=\"saveSpn fs12\">save</span></div></div></article>,\n",
       " <article class=\"jobTuple bgWhite br4 mb-8\" data-job-id=\"050721904958\"><div class=\"jobTupleHeader\"><div class=\"info fleft\"><a class=\"title fw500 ellipsis\" href=\"https://www.naukri.com/job-listings-senior-software-engineer-dell-boomi-connectivity-dell-international-services-india-private-limited-bangalore-bengaluru-6-to-9-years-050721904958?src=jobsearchDesk&amp;sid=16260785343639620&amp;xp=18&amp;px=1\" target=\"_blank\" title=\"Senior Software Engineer - Dell Boomi Connectivity\">Senior Software Engineer - Dell Boomi Connectivity</a><div class=\"mt-7 companyInfo subheading lh16\"><a class=\"subTitle ellipsis fleft\" href=\"https://www.naukri.com/dell-international-services-india-jobs-careers-27614\" target=\"_blank\" title=\"Dell International Services India  Private Limited\">Dell International Services India  Private Limited</a><span class=\"starRating fleft dot\" title=\"Powered by Ambition Box\">4.0<i class=\"naukicon naukicon-saved ml-5 fright\"></i></span><a class=\"reviewsCount ml-5 fleft blue-text\" href=\"https://www.ambitionbox.com/reviews/dell-reviews?utm_campaign=srp_ratings&amp;utm_medium=desktop&amp;utm_source=naukri?utm_campaign=srp_ratings&amp;utm_medium=desktop&amp;utm_source=naukri?utm_campaign=srp_ratings&amp;utm_medium=desktop&amp;utm_source=naukri?utm_campaign=srp_ratings&amp;utm_medium=desktop&amp;utm_source=naukri?utm_campaign=srp_ratings&amp;utm_medium=desktop&amp;utm_source=naukri?utm_campaign=srp_ratings&amp;utm_medium=desktop&amp;utm_source=naukri?utm_campaign=srp_ratings&amp;utm_medium=desktop&amp;utm_source=naukri\" target=\"_blank\" title=\"Powered by Ambition Box\">(1770 Reviews)</a></div><ul class=\"mt-7\"><li class=\"fleft grey-text br2 placeHolderLi experience\"><i class=\"fleft icon-16 lh16 mr-4 naukicon naukicon-experience\"></i><span class=\"ellipsis fleft fs12 lh16\" title=\"6-9 Yrs \">6-9 Yrs</span></li><li class=\"fleft grey-text br2 placeHolderLi salary\"><i class=\"fleft icon-16 lh16 mr-4 naukicon naukicon-rupee\"></i><span class=\"ellipsis fleft fs12 lh16\" title=\"Not disclosed \">Not disclosed</span></li><li class=\"fleft grey-text br2 placeHolderLi location\"><i class=\"fleft icon-16 lh16 mr-4 naukicon naukicon-location\"></i><span class=\"ellipsis fleft fs12 lh16\" title=\"Bangalore/Bengaluru \">Bangalore/Bengaluru</span></li></ul></div><div class=\"imgCont fright\"><div class=\"lazyload-placeholder\"></div></div></div><div class=\"job-description fs12 grey-text\"><i class=\"fleft icon-16 lh16 mr-4 naukicon naukicon-desc\"></i> Senior Software Engineer The Software Engineering team delivers next-generation applica...</div><ul class=\"tags has-description\"><li class=\"fleft fs12 grey-text lh16 dot\">Jenkins</li><li class=\"fleft fs12 grey-text lh16 dot\">CI/CD tools</li><li class=\"fleft fs12 grey-text lh16 dot\">REST</li><li class=\"fleft fs12 grey-text lh16 dot\"> SOAP</li><li class=\"fleft fs12 grey-text lh16 dot\">Hibernate</li><li class=\"fleft fs12 grey-text lh16 dot\"> Bamboo</li><li class=\"fleft fs12 grey-text lh16 dot\">Ansible</li><li class=\"fleft fs12 grey-text lh16 dot\">API integrations </li></ul><div class=\"jobTupleFooter mt-20\"><div class=\"jobType type fleft br2 mr-8\"><i class=\"fleft mr-4 fs11 naukicon naukicon-hot-jobs\"></i><span class=\"fleft fw500\">HOT JOB</span></div><div class=\"type br2 fleft grey\"><i class=\"fleft mr-4 fs11 naukicon naukicon-history\"></i><span class=\"fleft fw500\">6 Days Ago</span></div><div class=\"saveJobContainer fright grey-text save\"><i class=\"fleft mr-4 icon-16 lh16 naukicon naukicon-save\"></i><span class=\"saveSpn fs12\">save</span></div></div></article>,\n",
       " <article class=\"jobTuple bgWhite br4 mb-8\" data-job-id=\"050721904858\"><div class=\"jobTupleHeader\"><div class=\"info fleft\"><a class=\"title fw500 ellipsis\" href=\"https://www.naukri.com/job-listings-senior-software-engineer-dell-international-services-india-private-limited-bangalore-bengaluru-5-to-8-years-050721904858?src=jobsearchDesk&amp;sid=16260785343639620&amp;xp=19&amp;px=1\" target=\"_blank\" title=\"Senior Software Engineer\">Senior Software Engineer</a><div class=\"mt-7 companyInfo subheading lh16\"><a class=\"subTitle ellipsis fleft\" href=\"https://www.naukri.com/dell-international-services-india-jobs-careers-27614\" target=\"_blank\" title=\"Dell International Services India  Private Limited\">Dell International Services India  Private Limited</a><span class=\"starRating fleft dot\" title=\"Powered by Ambition Box\">4.0<i class=\"naukicon naukicon-saved ml-5 fright\"></i></span><a class=\"reviewsCount ml-5 fleft blue-text\" href=\"https://www.ambitionbox.com/reviews/dell-reviews?utm_campaign=srp_ratings&amp;utm_medium=desktop&amp;utm_source=naukri?utm_campaign=srp_ratings&amp;utm_medium=desktop&amp;utm_source=naukri?utm_campaign=srp_ratings&amp;utm_medium=desktop&amp;utm_source=naukri?utm_campaign=srp_ratings&amp;utm_medium=desktop&amp;utm_source=naukri?utm_campaign=srp_ratings&amp;utm_medium=desktop&amp;utm_source=naukri?utm_campaign=srp_ratings&amp;utm_medium=desktop&amp;utm_source=naukri?utm_campaign=srp_ratings&amp;utm_medium=desktop&amp;utm_source=naukri\" target=\"_blank\" title=\"Powered by Ambition Box\">(1770 Reviews)</a></div><ul class=\"mt-7\"><li class=\"fleft grey-text br2 placeHolderLi experience\"><i class=\"fleft icon-16 lh16 mr-4 naukicon naukicon-experience\"></i><span class=\"ellipsis fleft fs12 lh16\" title=\"5-8 Yrs \">5-8 Yrs</span></li><li class=\"fleft grey-text br2 placeHolderLi salary\"><i class=\"fleft icon-16 lh16 mr-4 naukicon naukicon-rupee\"></i><span class=\"ellipsis fleft fs12 lh16\" title=\"Not disclosed \">Not disclosed</span></li><li class=\"fleft grey-text br2 placeHolderLi location\"><i class=\"fleft icon-16 lh16 mr-4 naukicon naukicon-location\"></i><span class=\"ellipsis fleft fs12 lh16\" title=\"Bangalore/Bengaluru \">Bangalore/Bengaluru</span></li></ul></div><div class=\"imgCont fright\"><div class=\"lazyload-placeholder\"></div></div></div><div class=\"job-description fs12 grey-text\"><i class=\"fleft icon-16 lh16 mr-4 naukicon naukicon-desc\"></i> Senior Software Engineer The Software Engineering team delivers next-generation applica...</div><ul class=\"tags has-description\"><li class=\"fleft fs12 grey-text lh16 dot\">IT Skills</li><li class=\"fleft fs12 grey-text lh16 dot\">Java</li><li class=\"fleft fs12 grey-text lh16 dot\">Software Development</li><li class=\"fleft fs12 grey-text lh16 dot\">Angularjs</li><li class=\"fleft fs12 grey-text lh16 dot\">Node.js</li><li class=\"fleft fs12 grey-text lh16 dot\">Liquibase</li><li class=\"fleft fs12 grey-text lh16 dot\">JetBrains</li><li class=\"fleft fs12 grey-text lh16 dot\">Eclipse</li></ul><div class=\"jobTupleFooter mt-20\"><div class=\"jobType type fleft br2 mr-8\"><i class=\"fleft mr-4 fs11 naukicon naukicon-hot-jobs\"></i><span class=\"fleft fw500\">HOT JOB</span></div><div class=\"type br2 fleft grey\"><i class=\"fleft mr-4 fs11 naukicon naukicon-history\"></i><span class=\"fleft fw500\">6 Days Ago</span></div><div class=\"saveJobContainer fright grey-text save\"><i class=\"fleft mr-4 icon-16 lh16 naukicon naukicon-save\"></i><span class=\"saveSpn fs12\">save</span></div></div></article>,\n",
       " <article class=\"jobTuple bgWhite br4 mb-8\" data-job-id=\"050721904184\"><div class=\"jobTupleHeader\"><div class=\"info fleft\"><a class=\"title fw500 ellipsis\" href=\"https://www.naukri.com/job-listings-senior-software-engineer-cloud-mobility-dell-international-services-india-private-limited-bangalore-bengaluru-5-to-8-years-050721904184?src=jobsearchDesk&amp;sid=16260785343639620&amp;xp=20&amp;px=1\" target=\"_blank\" title=\"Senior Software Engineer (Cloud Mobility)\">Senior Software Engineer (Cloud Mobility)</a><div class=\"mt-7 companyInfo subheading lh16\"><a class=\"subTitle ellipsis fleft\" href=\"https://www.naukri.com/dell-international-services-india-jobs-careers-27614\" target=\"_blank\" title=\"Dell International Services India  Private Limited\">Dell International Services India  Private Limited</a><span class=\"starRating fleft dot\" title=\"Powered by Ambition Box\">4.0<i class=\"naukicon naukicon-saved ml-5 fright\"></i></span><a class=\"reviewsCount ml-5 fleft blue-text\" href=\"https://www.ambitionbox.com/reviews/dell-reviews?utm_campaign=srp_ratings&amp;utm_medium=desktop&amp;utm_source=naukri?utm_campaign=srp_ratings&amp;utm_medium=desktop&amp;utm_source=naukri?utm_campaign=srp_ratings&amp;utm_medium=desktop&amp;utm_source=naukri?utm_campaign=srp_ratings&amp;utm_medium=desktop&amp;utm_source=naukri?utm_campaign=srp_ratings&amp;utm_medium=desktop&amp;utm_source=naukri?utm_campaign=srp_ratings&amp;utm_medium=desktop&amp;utm_source=naukri?utm_campaign=srp_ratings&amp;utm_medium=desktop&amp;utm_source=naukri\" target=\"_blank\" title=\"Powered by Ambition Box\">(1770 Reviews)</a></div><ul class=\"mt-7\"><li class=\"fleft grey-text br2 placeHolderLi experience\"><i class=\"fleft icon-16 lh16 mr-4 naukicon naukicon-experience\"></i><span class=\"ellipsis fleft fs12 lh16\" title=\"5-8 Yrs \">5-8 Yrs</span></li><li class=\"fleft grey-text br2 placeHolderLi salary\"><i class=\"fleft icon-16 lh16 mr-4 naukicon naukicon-rupee\"></i><span class=\"ellipsis fleft fs12 lh16\" title=\"Not disclosed \">Not disclosed</span></li><li class=\"fleft grey-text br2 placeHolderLi location\"><i class=\"fleft icon-16 lh16 mr-4 naukicon naukicon-location\"></i><span class=\"ellipsis fleft fs12 lh16\" title=\"Bangalore/Bengaluru \">Bangalore/Bengaluru</span></li></ul></div><div class=\"imgCont fright\"><div class=\"lazyload-placeholder\"></div></div></div><div class=\"job-description fs12 grey-text\"><i class=\"fleft icon-16 lh16 mr-4 naukicon naukicon-desc\"></i> Ability to learn new tools, languages and operating systems with some training and on-t...</div><ul class=\"tags has-description\"><li class=\"fleft fs12 grey-text lh16 dot\">shell</li><li class=\"fleft fs12 grey-text lh16 dot\">Python</li><li class=\"fleft fs12 grey-text lh16 dot\">agile</li><li class=\"fleft fs12 grey-text lh16 dot\">python scripting</li><li class=\"fleft fs12 grey-text lh16 dot\">RestAPI</li><li class=\"fleft fs12 grey-text lh16 dot\">Java</li><li class=\"fleft fs12 grey-text lh16 dot\">docker</li><li class=\"fleft fs12 grey-text lh16 dot\">Unix</li></ul><div class=\"jobTupleFooter mt-20\"><div class=\"jobType type fleft br2 mr-8\"><i class=\"fleft mr-4 fs11 naukicon naukicon-hot-jobs\"></i><span class=\"fleft fw500\">HOT JOB</span></div><div class=\"type br2 fleft grey\"><i class=\"fleft mr-4 fs11 naukicon naukicon-history\"></i><span class=\"fleft fw500\">6 Days Ago</span></div><div class=\"saveJobContainer fright grey-text save\"><i class=\"fleft mr-4 icon-16 lh16 naukicon naukicon-save\"></i><span class=\"saveSpn fs12\">save</span></div></div></article>]"
      ]
     },
     "execution_count": 9,
     "metadata": {},
     "output_type": "execute_result"
    }
   ],
   "source": [
    "jobs"
   ]
  },
  {
   "cell_type": "code",
   "execution_count": 140,
   "id": "0007097b",
   "metadata": {},
   "outputs": [],
   "source": [
    "def get_data(j,datax,sou):\n",
    "    for jobs in j:\n",
    "        title = jobs.find(class_='title').text\n",
    "        Company = jobs.find(class_='subTitle').text\n",
    "        Salary = jobs.find(class_='salary').text\n",
    "        try:\n",
    "            Experience = jobs.find(class_='experience').text\n",
    "        except AttributeError:\n",
    "            Experience = ''\n",
    "        tags = []\n",
    "        for k in jobs.findAll(class_='fleft fs12 grey-text lh16 dot'):\n",
    "            tags.append(k.text)\n",
    "        date = jobs.findAll(class_='fleft fw500')\n",
    "        date = [i.text for i in date]\n",
    "        #print(title,Company,Salary,Experience,tags,date)\n",
    "        datax = datax.append({\"Title\":title,\"Company\":Company,\"Salary\":Salary,\"Experience\":Experience,\"Requirements\":tags,\"Posted\":date},ignore_index=True)\n",
    "    #print(datax)\n",
    "    href = sou.findAll('a',class_=\"fright\",href=True)[0].get('href')\n",
    "    url = \"https://www.naukri.com\"+href\n",
    "    return url,datax  "
   ]
  },
  {
   "cell_type": "code",
   "execution_count": 141,
   "id": "3defab12",
   "metadata": {},
   "outputs": [],
   "source": [
    "def scrape(url):\n",
    "    driver = webdriver.Chrome(\"C:\\\\Users\\\\Shivakumar\\\\Downloads\\\\chromedriver.exe\")\n",
    "    driver.get(url)\n",
    "    time.sleep(1)\n",
    "    soup = BeautifulSoup(driver.page_source,'html5lib')\n",
    "    #print(soup.prettify())\n",
    "    driver.close()\n",
    "    print('1')\n",
    "    return soup"
   ]
  },
  {
   "cell_type": "code",
   "execution_count": 142,
   "id": "8e2057f4",
   "metadata": {},
   "outputs": [
    {
     "name": "stdout",
     "output_type": "stream",
     "text": [
      "1\n"
     ]
    }
   ],
   "source": [
    "url = get_url('Accountant','bangalore')\n",
    "def main(url):\n",
    "    data = pd.DataFrame(columns=['Title','Company','Salary','Experience','Requirements','Posted'])\n",
    "    for i in range(1):\n",
    "        soup = scrape(url)\n",
    "        j = soup.findAll('article',class_ = 'jobTuple')\n",
    "        url,datax = get_data(j,data,soup)\n",
    "        #print(datax)\n",
    "        data = data.append(datax,ignore_index=True)\n",
    "    return data\n",
    "final_df = main(url)"
   ]
  },
  {
   "cell_type": "code",
   "execution_count": 143,
   "id": "25d956e3",
   "metadata": {},
   "outputs": [
    {
     "data": {
      "text/html": [
       "<div>\n",
       "<style scoped>\n",
       "    .dataframe tbody tr th:only-of-type {\n",
       "        vertical-align: middle;\n",
       "    }\n",
       "\n",
       "    .dataframe tbody tr th {\n",
       "        vertical-align: top;\n",
       "    }\n",
       "\n",
       "    .dataframe thead th {\n",
       "        text-align: right;\n",
       "    }\n",
       "</style>\n",
       "<table border=\"1\" class=\"dataframe\">\n",
       "  <thead>\n",
       "    <tr style=\"text-align: right;\">\n",
       "      <th></th>\n",
       "      <th>Title</th>\n",
       "      <th>Company</th>\n",
       "      <th>Salary</th>\n",
       "      <th>Experience</th>\n",
       "      <th>Requirements</th>\n",
       "      <th>Posted</th>\n",
       "    </tr>\n",
       "  </thead>\n",
       "  <tbody>\n",
       "    <tr>\n",
       "      <th>0</th>\n",
       "      <td>Senior Accountant / Asst. Manager</td>\n",
       "      <td>Informatica</td>\n",
       "      <td>Not disclosed</td>\n",
       "      <td>4-7 Yrs</td>\n",
       "      <td>[Fixed Assets, Statutory Audit, Icwa Inter, Ac...</td>\n",
       "      <td>[PREMIUM, 2 Days Ago]</td>\n",
       "    </tr>\n",
       "    <tr>\n",
       "      <th>1</th>\n",
       "      <td>Statutory Accountant</td>\n",
       "      <td>IBM India Pvt. Limited</td>\n",
       "      <td>Not disclosed</td>\n",
       "      <td>7-12 Yrs</td>\n",
       "      <td>[Auditor, Excel, Accounts Analyst, Accounting,...</td>\n",
       "      <td>[PREFERRED, Few Hours Ago]</td>\n",
       "    </tr>\n",
       "    <tr>\n",
       "      <th>2</th>\n",
       "      <td>Accounting Specialist hiring as junior account...</td>\n",
       "      <td>Synmac Consultants Private Limited</td>\n",
       "      <td>80,000 - 3,00,000 PA.</td>\n",
       "      <td>0-4 Yrs</td>\n",
       "      <td>[accounts executive, tds, accountant, Gst, aud...</td>\n",
       "      <td>[HOT JOB, Just Now]</td>\n",
       "    </tr>\n",
       "    <tr>\n",
       "      <th>3</th>\n",
       "      <td>Chartered Accountant</td>\n",
       "      <td>GNANOBA AND BHAT</td>\n",
       "      <td>Not disclosed</td>\n",
       "      <td>0-5 Yrs</td>\n",
       "      <td>[Statutory Audit, Internal Audit, Financial Re...</td>\n",
       "      <td>[HOT JOB, 7 Days Ago]</td>\n",
       "    </tr>\n",
       "    <tr>\n",
       "      <th>4</th>\n",
       "      <td>Female Accountant</td>\n",
       "      <td>UMAC Avionics Pvt Ltd</td>\n",
       "      <td>Not disclosed</td>\n",
       "      <td>2-4 Yrs</td>\n",
       "      <td>[Tax Returns, Income Tax Returns, Accountant, ...</td>\n",
       "      <td>[HOT JOB, Just Now]</td>\n",
       "    </tr>\n",
       "    <tr>\n",
       "      <th>5</th>\n",
       "      <td>Accountant</td>\n",
       "      <td>BN Enterprises</td>\n",
       "      <td>2,50,000 - 4,00,000 PA.</td>\n",
       "      <td></td>\n",
       "      <td>[Tally, Accounting, Taxation, MCOM, Finance, L...</td>\n",
       "      <td>[WALK-IN, 2 Days Ago]</td>\n",
       "    </tr>\n",
       "    <tr>\n",
       "      <th>6</th>\n",
       "      <td>Cost Accountant</td>\n",
       "      <td>Sami- Sabinsa Group Limited</td>\n",
       "      <td>Not disclosed</td>\n",
       "      <td>3-6 Yrs</td>\n",
       "      <td>[Cost Accounting, Cost Sheet, Product Costing,...</td>\n",
       "      <td>[HOT JOB, 2 Days Ago]</td>\n",
       "    </tr>\n",
       "    <tr>\n",
       "      <th>7</th>\n",
       "      <td>Senior AR and AP Accountant</td>\n",
       "      <td>ALATION INDIA PRIVATE LIMITED</td>\n",
       "      <td>Not disclosed</td>\n",
       "      <td>8-13 Yrs</td>\n",
       "      <td>[Netsuite, Accounts Receivable, Accounts Payab...</td>\n",
       "      <td>[HOT JOB, 3 Days Ago]</td>\n",
       "    </tr>\n",
       "    <tr>\n",
       "      <th>8</th>\n",
       "      <td>Senior Accountant</td>\n",
       "      <td>Gojek Tech</td>\n",
       "      <td>Not disclosed</td>\n",
       "      <td>3-5 Yrs</td>\n",
       "      <td>[US GAAP, Financial reporting, General account...</td>\n",
       "      <td>[3 Days Ago]</td>\n",
       "    </tr>\n",
       "    <tr>\n",
       "      <th>9</th>\n",
       "      <td>Senior Accountant</td>\n",
       "      <td>DB ASSOCIATES</td>\n",
       "      <td>Not disclosed</td>\n",
       "      <td>5-10 Yrs</td>\n",
       "      <td>[P, Tally Software, Accounting, MS Office]</td>\n",
       "      <td>[HOT JOB, 4 Days Ago]</td>\n",
       "    </tr>\n",
       "    <tr>\n",
       "      <th>10</th>\n",
       "      <td>Senior Associate Financial Accountant</td>\n",
       "      <td>Oakton GTSCI Pvt Ltdd</td>\n",
       "      <td>Not disclosed</td>\n",
       "      <td>3-7 Yrs</td>\n",
       "      <td>[Journal entries, Sales tax, Billing, GAAP, Ca...</td>\n",
       "      <td>[5 Days Ago]</td>\n",
       "    </tr>\n",
       "    <tr>\n",
       "      <th>11</th>\n",
       "      <td>Sr. Revenue Accountant</td>\n",
       "      <td>Automation Anywhere Software Pvt ltd</td>\n",
       "      <td>Not disclosed</td>\n",
       "      <td>4-7 Yrs</td>\n",
       "      <td>[oral communication, written, Revenue Accounti...</td>\n",
       "      <td>[7 Days Ago]</td>\n",
       "    </tr>\n",
       "    <tr>\n",
       "      <th>12</th>\n",
       "      <td>Sr. Accountant / CA</td>\n",
       "      <td>TECH4BILLION MEDIA PRIVATE LIMITED</td>\n",
       "      <td>4,75,000 - 6,00,000 PA.</td>\n",
       "      <td>1-2 Yrs</td>\n",
       "      <td>[accounts payable, Accounting]</td>\n",
       "      <td>[HOT JOB, 7 Days Ago]</td>\n",
       "    </tr>\n",
       "    <tr>\n",
       "      <th>13</th>\n",
       "      <td>Senior Accountant</td>\n",
       "      <td>GO-JEK India</td>\n",
       "      <td>Not disclosed</td>\n",
       "      <td>4-9 Yrs</td>\n",
       "      <td>[US GAAP, Financial reporting, General account...</td>\n",
       "      <td>[PREMIUM, 3 Days Ago]</td>\n",
       "    </tr>\n",
       "    <tr>\n",
       "      <th>14</th>\n",
       "      <td>FP&amp;A Accountant</td>\n",
       "      <td>Frontline Analysts</td>\n",
       "      <td>Not disclosed</td>\n",
       "      <td>5-10 Yrs</td>\n",
       "      <td>[Accounting,  Chartered Accountant,  Finance &amp;...</td>\n",
       "      <td>[HOT JOB, 5 Days Ago]</td>\n",
       "    </tr>\n",
       "    <tr>\n",
       "      <th>15</th>\n",
       "      <td>Hiring For Qualified Chartered Accountants</td>\n",
       "      <td>Rise Finconnect Private Limited</td>\n",
       "      <td>Not disclosed</td>\n",
       "      <td>1-2 Yrs</td>\n",
       "      <td>[Statutory Audit, Accounting, Chartered Accoun...</td>\n",
       "      <td>[HOT JOB, 5 Days Ago]</td>\n",
       "    </tr>\n",
       "    <tr>\n",
       "      <th>16</th>\n",
       "      <td>Finance Executive / Accountant</td>\n",
       "      <td>Vishwa Bharathi Vidya Mandir</td>\n",
       "      <td>3,00,000 - 5,00,000 PA.</td>\n",
       "      <td>1-3 Yrs</td>\n",
       "      <td>[Bcom, Tally, Accounting Functions, Finance]</td>\n",
       "      <td>[HOT JOB, 14 Days Ago]</td>\n",
       "    </tr>\n",
       "    <tr>\n",
       "      <th>17</th>\n",
       "      <td>Accountant (CA Inter)</td>\n",
       "      <td>Novel Office</td>\n",
       "      <td>Not disclosed</td>\n",
       "      <td>0-2 Yrs</td>\n",
       "      <td>[Statutory Audit, General Accounting, Account ...</td>\n",
       "      <td>[HOT JOB, 2 Days Ago]</td>\n",
       "    </tr>\n",
       "    <tr>\n",
       "      <th>18</th>\n",
       "      <td>Financial Accountant</td>\n",
       "      <td>Oges Solutions Private Ltd</td>\n",
       "      <td>7,00,000 - 8,00,000 PA.</td>\n",
       "      <td>3-4 Yrs</td>\n",
       "      <td>[TDS, Accounting, GAAP, Gst, Accounts Receivab...</td>\n",
       "      <td>[HOT JOB, 3 Days Ago]</td>\n",
       "    </tr>\n",
       "    <tr>\n",
       "      <th>19</th>\n",
       "      <td>Accountant</td>\n",
       "      <td>Ashoka</td>\n",
       "      <td>Not disclosed</td>\n",
       "      <td>3-4 Yrs</td>\n",
       "      <td>[Analytical skills, Tally, TDS, Payroll, Bank ...</td>\n",
       "      <td>[7 Days Ago]</td>\n",
       "    </tr>\n",
       "  </tbody>\n",
       "</table>\n",
       "</div>"
      ],
      "text/plain": [
       "                                                Title  \\\n",
       "0                  Senior Accountant / Asst. Manager    \n",
       "1                                Statutory Accountant   \n",
       "2   Accounting Specialist hiring as junior account...   \n",
       "3                                Chartered Accountant   \n",
       "4                                   Female Accountant   \n",
       "5                                          Accountant   \n",
       "6                                     Cost Accountant   \n",
       "7                         Senior AR and AP Accountant   \n",
       "8                                   Senior Accountant   \n",
       "9                                   Senior Accountant   \n",
       "10              Senior Associate Financial Accountant   \n",
       "11                             Sr. Revenue Accountant   \n",
       "12                                Sr. Accountant / CA   \n",
       "13                                  Senior Accountant   \n",
       "14                                    FP&A Accountant   \n",
       "15         Hiring For Qualified Chartered Accountants   \n",
       "16                     Finance Executive / Accountant   \n",
       "17                              Accountant (CA Inter)   \n",
       "18                               Financial Accountant   \n",
       "19                                         Accountant   \n",
       "\n",
       "                                 Company                   Salary Experience  \\\n",
       "0                            Informatica            Not disclosed    4-7 Yrs   \n",
       "1                 IBM India Pvt. Limited            Not disclosed   7-12 Yrs   \n",
       "2     Synmac Consultants Private Limited    80,000 - 3,00,000 PA.    0-4 Yrs   \n",
       "3                       GNANOBA AND BHAT            Not disclosed    0-5 Yrs   \n",
       "4                  UMAC Avionics Pvt Ltd            Not disclosed    2-4 Yrs   \n",
       "5                         BN Enterprises  2,50,000 - 4,00,000 PA.              \n",
       "6          Sami- Sabinsa Group Limited              Not disclosed    3-6 Yrs   \n",
       "7          ALATION INDIA PRIVATE LIMITED            Not disclosed   8-13 Yrs   \n",
       "8                             Gojek Tech            Not disclosed    3-5 Yrs   \n",
       "9                          DB ASSOCIATES            Not disclosed   5-10 Yrs   \n",
       "10                 Oakton GTSCI Pvt Ltdd            Not disclosed    3-7 Yrs   \n",
       "11  Automation Anywhere Software Pvt ltd            Not disclosed    4-7 Yrs   \n",
       "12   TECH4BILLION MEDIA PRIVATE LIMITED   4,75,000 - 6,00,000 PA.    1-2 Yrs   \n",
       "13                          GO-JEK India            Not disclosed    4-9 Yrs   \n",
       "14                    Frontline Analysts            Not disclosed   5-10 Yrs   \n",
       "15       Rise Finconnect Private Limited            Not disclosed    1-2 Yrs   \n",
       "16          Vishwa Bharathi Vidya Mandir  3,00,000 - 5,00,000 PA.    1-3 Yrs   \n",
       "17                          Novel Office            Not disclosed    0-2 Yrs   \n",
       "18            Oges Solutions Private Ltd  7,00,000 - 8,00,000 PA.    3-4 Yrs   \n",
       "19                                Ashoka            Not disclosed    3-4 Yrs   \n",
       "\n",
       "                                         Requirements  \\\n",
       "0   [Fixed Assets, Statutory Audit, Icwa Inter, Ac...   \n",
       "1   [Auditor, Excel, Accounts Analyst, Accounting,...   \n",
       "2   [accounts executive, tds, accountant, Gst, aud...   \n",
       "3   [Statutory Audit, Internal Audit, Financial Re...   \n",
       "4   [Tax Returns, Income Tax Returns, Accountant, ...   \n",
       "5   [Tally, Accounting, Taxation, MCOM, Finance, L...   \n",
       "6   [Cost Accounting, Cost Sheet, Product Costing,...   \n",
       "7   [Netsuite, Accounts Receivable, Accounts Payab...   \n",
       "8   [US GAAP, Financial reporting, General account...   \n",
       "9          [P, Tally Software, Accounting, MS Office]   \n",
       "10  [Journal entries, Sales tax, Billing, GAAP, Ca...   \n",
       "11  [oral communication, written, Revenue Accounti...   \n",
       "12                     [accounts payable, Accounting]   \n",
       "13  [US GAAP, Financial reporting, General account...   \n",
       "14  [Accounting,  Chartered Accountant,  Finance &...   \n",
       "15  [Statutory Audit, Accounting, Chartered Accoun...   \n",
       "16       [Bcom, Tally, Accounting Functions, Finance]   \n",
       "17  [Statutory Audit, General Accounting, Account ...   \n",
       "18  [TDS, Accounting, GAAP, Gst, Accounts Receivab...   \n",
       "19  [Analytical skills, Tally, TDS, Payroll, Bank ...   \n",
       "\n",
       "                        Posted  \n",
       "0        [PREMIUM, 2 Days Ago]  \n",
       "1   [PREFERRED, Few Hours Ago]  \n",
       "2          [HOT JOB, Just Now]  \n",
       "3        [HOT JOB, 7 Days Ago]  \n",
       "4          [HOT JOB, Just Now]  \n",
       "5        [WALK-IN, 2 Days Ago]  \n",
       "6        [HOT JOB, 2 Days Ago]  \n",
       "7        [HOT JOB, 3 Days Ago]  \n",
       "8                 [3 Days Ago]  \n",
       "9        [HOT JOB, 4 Days Ago]  \n",
       "10                [5 Days Ago]  \n",
       "11                [7 Days Ago]  \n",
       "12       [HOT JOB, 7 Days Ago]  \n",
       "13       [PREMIUM, 3 Days Ago]  \n",
       "14       [HOT JOB, 5 Days Ago]  \n",
       "15       [HOT JOB, 5 Days Ago]  \n",
       "16      [HOT JOB, 14 Days Ago]  \n",
       "17       [HOT JOB, 2 Days Ago]  \n",
       "18       [HOT JOB, 3 Days Ago]  \n",
       "19                [7 Days Ago]  "
      ]
     },
     "execution_count": 143,
     "metadata": {},
     "output_type": "execute_result"
    }
   ],
   "source": [
    "final_df"
   ]
  },
  {
   "cell_type": "code",
   "execution_count": null,
   "id": "66ca5eee",
   "metadata": {},
   "outputs": [],
   "source": []
  },
  {
   "cell_type": "code",
   "execution_count": 124,
   "id": "874b54ad",
   "metadata": {},
   "outputs": [
    {
     "data": {
      "text/plain": [
       "['Informatica',\n",
       " 'GNANOBA AND BHAT',\n",
       " 'BN Enterprises',\n",
       " 'Sami- Sabinsa Group Limited  ',\n",
       " 'ALATION INDIA PRIVATE LIMITED',\n",
       " 'Gojek Tech',\n",
       " 'DB ASSOCIATES',\n",
       " 'Oakton GTSCI Pvt Ltdd',\n",
       " 'Automation Anywhere Software Pvt ltd',\n",
       " 'TECH4BILLION MEDIA PRIVATE LIMITED ',\n",
       " 'GO-JEK India',\n",
       " 'Frontline Analysts',\n",
       " 'Rise Finconnect Private Limited',\n",
       " 'Vishwa Bharathi Vidya Mandir',\n",
       " 'Novel Office',\n",
       " 'Oges Solutions Private Ltd',\n",
       " 'Ashoka',\n",
       " 'Infoblox',\n",
       " 'Flex-i Partners    ',\n",
       " 'Homes under Budget']"
      ]
     },
     "execution_count": 124,
     "metadata": {},
     "output_type": "execute_result"
    }
   ],
   "source": [
    "final_df['Company'].values.tolist()"
   ]
  },
  {
   "cell_type": "code",
   "execution_count": 125,
   "id": "634b781e",
   "metadata": {},
   "outputs": [],
   "source": [
    "sals = final_df['Salary'].values.tolist()\n"
   ]
  },
  {
   "cell_type": "code",
   "execution_count": 126,
   "id": "bd542f93",
   "metadata": {},
   "outputs": [],
   "source": [
    "sals = list(filter(lambda x : x!='Not disclosed',sals))"
   ]
  },
  {
   "cell_type": "code",
   "execution_count": 127,
   "id": "dd6dc4f9",
   "metadata": {},
   "outputs": [],
   "source": [
    "sals = [i.split(' - ') for i in sals]\n"
   ]
  },
  {
   "cell_type": "code",
   "execution_count": 128,
   "id": "7510d5a1",
   "metadata": {},
   "outputs": [
    {
     "data": {
      "text/plain": [
       "[['2,50,000', '4,00,000 PA.'],\n",
       " ['4,75,000', '6,00,000 PA.'],\n",
       " ['3,00,000', '5,00,000 PA.'],\n",
       " ['7,00,000', '8,00,000 PA.'],\n",
       " ['25,00,000', '30,00,000 PA.']]"
      ]
     },
     "execution_count": 128,
     "metadata": {},
     "output_type": "execute_result"
    }
   ],
   "source": [
    "sals"
   ]
  },
  {
   "cell_type": "code",
   "execution_count": 129,
   "id": "6b88b82a",
   "metadata": {},
   "outputs": [],
   "source": [
    "sals = [(i[0],i[1].replace(' PA.','')) for i in sals]"
   ]
  },
  {
   "cell_type": "code",
   "execution_count": 130,
   "id": "d0d9612b",
   "metadata": {},
   "outputs": [],
   "source": [
    "import re"
   ]
  },
  {
   "cell_type": "code",
   "execution_count": 131,
   "id": "96c81b2b",
   "metadata": {},
   "outputs": [],
   "source": [
    "sals  = [[int(i[0].replace(',','')), 1.5*int(i[0].replace(',','')) if re.search(\"[a-zA-Z]\",i[1]) else int(i[1].replace(',',''))] for i in sals]"
   ]
  },
  {
   "cell_type": "code",
   "execution_count": 132,
   "id": "d8b8d3ae",
   "metadata": {},
   "outputs": [],
   "source": [
    "import numpy as np"
   ]
  },
  {
   "cell_type": "code",
   "execution_count": 133,
   "id": "de300d2d",
   "metadata": {},
   "outputs": [],
   "source": [
    "sals  = np.array(sals)"
   ]
  },
  {
   "cell_type": "code",
   "execution_count": 134,
   "id": "de831613",
   "metadata": {},
   "outputs": [
    {
     "data": {
      "text/plain": [
       "(5, 2)"
      ]
     },
     "execution_count": 134,
     "metadata": {},
     "output_type": "execute_result"
    }
   ],
   "source": [
    "sals.shape"
   ]
  },
  {
   "cell_type": "code",
   "execution_count": 136,
   "id": "924bbf5b",
   "metadata": {},
   "outputs": [
    {
     "data": {
      "text/plain": [
       "[250000,\n",
       " 400000,\n",
       " 475000,\n",
       " 600000,\n",
       " 300000,\n",
       " 500000,\n",
       " 700000,\n",
       " 800000,\n",
       " 2500000,\n",
       " 3000000]"
      ]
     },
     "execution_count": 136,
     "metadata": {},
     "output_type": "execute_result"
    }
   ],
   "source": [
    "sals.ravel().tolist()"
   ]
  },
  {
   "cell_type": "code",
   "execution_count": 312,
   "id": "ba9e5c03",
   "metadata": {},
   "outputs": [
    {
     "data": {
      "text/plain": [
       "['Senior AR and AP Accountant',\n",
       " 'Senior Accountant',\n",
       " 'Senior Accountant',\n",
       " 'Chartered Accountant',\n",
       " 'Financial Accountant',\n",
       " 'Senior Financial Accountant - UK Accounting',\n",
       " 'Accountant',\n",
       " 'Cost Accountant',\n",
       " 'Accountant',\n",
       " 'Branch Accountant',\n",
       " 'Accountant/chartered Accountant',\n",
       " 'Senior Accountant',\n",
       " 'Senior Associate Financial Accountant',\n",
       " 'Sr. Revenue Accountant',\n",
       " 'Sr. Accountant / CA',\n",
       " 'Sr. Revenue Accountant',\n",
       " 'FP&A Accountant',\n",
       " 'Hiring For Qualified Chartered Accountants',\n",
       " 'Finance Executive / Accountant',\n",
       " 'Accountant (CA Inter)',\n",
       " 'Senior AR and AP Accountant',\n",
       " 'Senior Accountant',\n",
       " 'Senior Accountant',\n",
       " 'Chartered Accountant',\n",
       " 'Financial Accountant',\n",
       " 'Senior Financial Accountant - UK Accounting',\n",
       " 'Accountant',\n",
       " 'Cost Accountant',\n",
       " 'Accountant',\n",
       " 'Branch Accountant',\n",
       " 'Accountant/chartered Accountant',\n",
       " 'Senior Accountant',\n",
       " 'Senior Associate Financial Accountant',\n",
       " 'Sr. Revenue Accountant',\n",
       " 'Sr. Accountant / CA',\n",
       " 'Sr. Revenue Accountant',\n",
       " 'FP&A Accountant',\n",
       " 'Hiring For Qualified Chartered Accountants',\n",
       " 'Finance Executive / Accountant',\n",
       " 'Accountant (CA Inter)',\n",
       " 'Accountant',\n",
       " 'Senior Tax Accountant',\n",
       " 'Cost Accountant',\n",
       " 'Senior Accountant / Asst. Manager ',\n",
       " 'Urgent Openings Fund Accountant Operation and NAV Calculations-Chennai',\n",
       " 'Vacancy For Fund Accountant & NAV Calculations For AM & DM',\n",
       " 'Urgent Openings Fund Accountant Operation and NAV Calculations-Chennai',\n",
       " 'FP&A MBA & Accountant required For US Private Equity firm',\n",
       " 'Accountant',\n",
       " 'Immediate requirement of Accountant',\n",
       " 'Associate Professional Accountant ',\n",
       " 'Production Accountant',\n",
       " 'Accountant',\n",
       " 'Opening For Accountant',\n",
       " 'Senior Accountant_ U.S. GAAP _ Charted Accountant',\n",
       " 'Senior Accountant | Product Company | Milestone Inc |',\n",
       " 'urgent hiring For the post of junior accountant in bangalore',\n",
       " 'Chartered Accountant',\n",
       " 'Accountant (CA with Direct Taxation experience)',\n",
       " 'Statutory Audit Accountant']"
      ]
     },
     "execution_count": 312,
     "metadata": {},
     "output_type": "execute_result"
    }
   ],
   "source": [
    "final_df['Title'].values.tolist()"
   ]
  },
  {
   "cell_type": "code",
   "execution_count": 381,
   "id": "9bf62dca",
   "metadata": {},
   "outputs": [],
   "source": [
    "exp = list(filter(lambda x: x!='',final_df['Experience'].values.tolist()))\n",
    "exp = [i.replace(' Yrs','') for i in exp]\n",
    "exp = [[int(i.split('-')[0]),int(i.split('-')[1])] for i in exp]\n",
    "exp = np.array(exp)"
   ]
  },
  {
   "cell_type": "code",
   "execution_count": 394,
   "id": "0a40c94a",
   "metadata": {},
   "outputs": [],
   "source": [
    "df = final_df['Requirements'].values.tolist()"
   ]
  },
  {
   "cell_type": "code",
   "execution_count": 402,
   "id": "a2001592",
   "metadata": {},
   "outputs": [],
   "source": [
    "from functools import reduce"
   ]
  },
  {
   "cell_type": "code",
   "execution_count": 411,
   "id": "32ecaff6",
   "metadata": {},
   "outputs": [],
   "source": [
    "req = []\n",
    "for i in df:\n",
    "    for j in i:\n",
    "        req.append(j.lower().strip())"
   ]
  },
  {
   "cell_type": "code",
   "execution_count": 414,
   "id": "8fd990a5",
   "metadata": {},
   "outputs": [],
   "source": [
    "req = list(set(req))"
   ]
  },
  {
   "cell_type": "code",
   "execution_count": 429,
   "id": "50f58283",
   "metadata": {},
   "outputs": [
    {
     "name": "stdout",
     "output_type": "stream",
     "text": [
      "[1, 2, 2, 2, 6, 2, 2, 1, 1, 2, 2, 2, 3, 4, 6, 6, 7, 4, 4, 13, 1, 2, 2, 2, 6, 2, 2, 1, 1, 2, 2, 2, 3, 4, 6, 6, 7, 4, 4, 13, 1, 6, 10, 2, 3, 3, 3, 4, 5, 5, 12, 4, 5, 5, 8, 13, 15, 6, 11, 13]\n"
     ]
    }
   ],
   "source": [
    "date = final_df['Posted'].values.tolist()\n",
    "days_ago = []\n",
    "for i in date:\n",
    "    for j in i:\n",
    "        if re.search('[1-9]',j):\n",
    "            j = j.split(' ')[0]\n",
    "            days_ago.append(int(j))\n",
    "print(days_ago)"
   ]
  },
  {
   "cell_type": "code",
   "execution_count": 109,
   "id": "bd6a508f",
   "metadata": {},
   "outputs": [],
   "source": [
    "import sqlite3"
   ]
  },
  {
   "cell_type": "code",
   "execution_count": 110,
   "id": "cdfde7fb",
   "metadata": {},
   "outputs": [],
   "source": [
    "conn = sqlite3.connect('jobs3.db')"
   ]
  },
  {
   "cell_type": "code",
   "execution_count": 111,
   "id": "be87e467",
   "metadata": {},
   "outputs": [],
   "source": [
    "c = conn.cursor()"
   ]
  },
  {
   "cell_type": "code",
   "execution_count": 113,
   "id": "c3b00a71",
   "metadata": {},
   "outputs": [
    {
     "data": {
      "text/plain": [
       "<sqlite3.Cursor at 0x204f4ba20a0>"
      ]
     },
     "execution_count": 113,
     "metadata": {},
     "output_type": "execute_result"
    }
   ],
   "source": [
    "c.execute(\"\"\" CREATE TABLE jobs(\n",
    "              Title VARCHAR(100),\n",
    "              Company VARCHAR(100),\n",
    "              Salary  VARCHAR(30),\n",
    "              Experience VARCHAR(40),\n",
    "              Requirements VARCHAR(500),\n",
    "              Posted VARCHAR(20))\n",
    "            \"\"\")"
   ]
  },
  {
   "cell_type": "code",
   "execution_count": 114,
   "id": "844c104c",
   "metadata": {},
   "outputs": [
    {
     "data": {
      "text/plain": [
       "[]"
      ]
     },
     "execution_count": 114,
     "metadata": {},
     "output_type": "execute_result"
    }
   ],
   "source": [
    "c.execute(\"SELECT * FROM jobs\")\n",
    "c.fetchall()"
   ]
  },
  {
   "cell_type": "code",
   "execution_count": 105,
   "id": "d8eda45b",
   "metadata": {},
   "outputs": [
    {
     "data": {
      "text/plain": [
       "<sqlite3.Cursor at 0x204f4b846c0>"
      ]
     },
     "execution_count": 105,
     "metadata": {},
     "output_type": "execute_result"
    }
   ],
   "source": [
    "c.execute(\"DROP TABLE jobs\")"
   ]
  },
  {
   "cell_type": "code",
   "execution_count": 115,
   "id": "080c9138",
   "metadata": {},
   "outputs": [],
   "source": [
    "conn.commit()"
   ]
  },
  {
   "cell_type": "code",
   "execution_count": 108,
   "id": "7db01348",
   "metadata": {},
   "outputs": [],
   "source": [
    "conn.close()"
   ]
  },
  {
   "cell_type": "code",
   "execution_count": 47,
   "id": "0cd4579b",
   "metadata": {},
   "outputs": [
    {
     "ename": "ProgrammingError",
     "evalue": "Incorrect number of bindings supplied. The current statement uses 6, and there are 0 supplied.",
     "output_type": "error",
     "traceback": [
      "\u001b[1;31m---------------------------------------------------------------------------\u001b[0m",
      "\u001b[1;31mProgrammingError\u001b[0m                          Traceback (most recent call last)",
      "\u001b[1;32m<ipython-input-47-c15fbe3788ad>\u001b[0m in \u001b[0;36m<module>\u001b[1;34m\u001b[0m\n\u001b[1;32m----> 1\u001b[1;33m \u001b[0mc\u001b[0m\u001b[1;33m.\u001b[0m\u001b[0mexecute\u001b[0m\u001b[1;33m(\u001b[0m\u001b[1;34m\"INSERT INTO jobs VALUES (?,?,?,?,?,?)\"\u001b[0m\u001b[1;33m,\u001b[0m\u001b[1;33m(\u001b[0m\u001b[1;33m)\u001b[0m\u001b[1;33m)\u001b[0m\u001b[1;33m\u001b[0m\u001b[1;33m\u001b[0m\u001b[0m\n\u001b[0m",
      "\u001b[1;31mProgrammingError\u001b[0m: Incorrect number of bindings supplied. The current statement uses 6, and there are 0 supplied."
     ]
    }
   ],
   "source": [
    "c.execute(\"INSERT INTO jobs VALUES (?,?,?,?,?,?)\",())"
   ]
  },
  {
   "cell_type": "code",
   "execution_count": 117,
   "id": "34933b5d",
   "metadata": {},
   "outputs": [
    {
     "name": "stdout",
     "output_type": "stream",
     "text": [
      "1\n"
     ]
    }
   ],
   "source": [
    "url = get_url('Accountant','bangalore')\n",
    "def main(url):\n",
    "    data = pd.DataFrame(columns=['Title','Company','Salary','Experience','Requirements','Posted'])\n",
    "    for i in range(1):\n",
    "        soup = scrape(url)\n",
    "        j = soup.findAll('article',class_ = 'jobTuple')\n",
    "        url,datax = get_data2(j,data,soup)\n",
    "        #print(datax)\n",
    "        data = data.append(datax,ignore_index=True)\n",
    "        break\n",
    "    return data\n",
    "final_df = main(url)"
   ]
  },
  {
   "cell_type": "code",
   "execution_count": 119,
   "id": "578b74b0",
   "metadata": {},
   "outputs": [],
   "source": [
    "c.execute(\"SELECT * FROM jobs\")\n",
    "items  = c.fetchall()"
   ]
  },
  {
   "cell_type": "code",
   "execution_count": 120,
   "id": "a2f60c51",
   "metadata": {},
   "outputs": [
    {
     "name": "stdout",
     "output_type": "stream",
     "text": [
      "('Senior Accountant / Asst. Manager ', 'Informatica', 'Not disclosed', '4-7 Yrs', \"['Fixed Assets', 'Statutory Audit', 'Icwa Inter', 'Accounting', 'Finance', 'Us Gaap', 'General Ledger', 'Bank Reconciliation']\", \"['PREMIUM', '1 Day Ago']\")\n",
      "('Chartered Accountant', 'GNANOBA AND BHAT', 'Not disclosed', '0-5 Yrs', \"['Statutory Audit', 'Internal Audit', 'Financial Reporting', 'SAP', 'Accounting', 'Direct Tax', 'Chartered Accountant', 'Ind AS']\", \"['HOT JOB', '7 Days Ago']\")\n",
      "('Accountant', 'BN Enterprises', '2,50,000 - 4,00,000 PA.', '', \"['Tally', 'Accounting', 'Taxation', 'MCOM', 'Finance', 'Loss', 'Profit', 'Mba']\", \"['WALK-IN', '1 Day Ago']\")\n",
      "('Cost Accountant', 'Sami- Sabinsa Group Limited  ', 'Not disclosed', '3-6 Yrs', \"['Cost Accounting', 'Cost Sheet', 'Product Costing', 'MIS Preparation', 'Cost Analysis', 'Finance', 'Reconciliation', 'cost sheet preparation']\", \"['HOT JOB', '2 Days Ago']\")\n",
      "('Senior AR and AP Accountant', 'ALATION INDIA PRIVATE LIMITED', 'Not disclosed', '8-13 Yrs', \"['Netsuite', 'Accounts Receivable', 'Accounts Payable', 'IT Skills', 'Big Data', 'Corporate Finance', 'AR', 'Vendor Payments']\", \"['HOT JOB', '3 Days Ago']\")\n",
      "('Senior Accountant', 'Gojek Tech', 'Not disclosed', '3-5 Yrs', \"['US GAAP', 'Financial reporting', 'General accounting', 'Accounting', 'Financial planning', 'Trend analysis', 'Workflow', 'Indirect taxation']\", \"['2 Days Ago']\")\n",
      "('Senior Accountant', 'DB ASSOCIATES', 'Not disclosed', '5-10 Yrs', \"['P', 'Tally Software', 'Accounting', 'MS Office']\", \"['HOT JOB', '4 Days Ago']\")\n",
      "('Senior Associate Financial Accountant', 'Oakton GTSCI Pvt Ltdd', 'Not disclosed', '3-7 Yrs', \"['Journal entries', 'Sales tax', 'Billing', 'GAAP', 'Cash flow', 'Cash management', 'Forecasting', 'Balance Sheet']\", \"['4 Days Ago']\")\n",
      "('Sr. Revenue Accountant', 'Automation Anywhere Software Pvt ltd', 'Not disclosed', '4-7 Yrs', \"['oral communication', 'written', 'Revenue Accounting', 'Salesforce com', 'excel', 'IT Skills', 'Cloud', 'RPA']\", \"['6 Days Ago']\")\n",
      "('Sr. Accountant / CA', 'TECH4BILLION MEDIA PRIVATE LIMITED ', '4,75,000 - 6,00,000 PA.', '1-2 Yrs', \"['accounts payable', 'Accounting']\", \"['HOT JOB', '6 Days Ago']\")\n",
      "('Senior Accountant', 'GO-JEK India', 'Not disclosed', '4-9 Yrs', \"['US GAAP', 'Financial reporting', 'General accounting', 'Accounting', 'Financial planning', 'Trend analysis', 'Workflow', 'Indirect taxation']\", \"['PREMIUM', '2 Days Ago']\")\n",
      "('FP&A Accountant', 'Frontline Analysts', 'Not disclosed', '5-10 Yrs', \"['Accounting', ' Chartered Accountant', ' Finance & Accounts', ' Book Keeping', ' Financial Planning', ' Financial Analysis']\", \"['HOT JOB', '4 Days Ago']\")\n",
      "('Hiring For Qualified Chartered Accountants', 'Rise Finconnect Private Limited', 'Not disclosed', '1-2 Yrs', \"['Statutory Audit', 'Accounting', 'Chartered Accountant', 'Taxation']\", \"['HOT JOB', '5 Days Ago']\")\n",
      "('Finance Executive / Accountant', 'Vishwa Bharathi Vidya Mandir', '3,00,000 - 5,00,000 PA.', '1-3 Yrs', \"['Bcom', 'Tally', 'Accounting Functions', 'Finance']\", \"['HOT JOB', '14 Days Ago']\")\n",
      "('Accountant (CA Inter)', 'Novel Office', 'Not disclosed', '0-2 Yrs', \"['Statutory Audit', 'General Accounting', 'Account Management', 'Internal Audit', 'TDS', 'External Audit', 'Quick Books', 'Financial management']\", \"['HOT JOB', '2 Days Ago']\")\n",
      "('Financial Accountant', 'Oges Solutions Private Ltd', '7,00,000 - 8,00,000 PA.', '3-4 Yrs', \"['TDS', 'Accounting', 'GAAP', 'Gst', 'Accounts Receivable', 'Accounts Payable']\", \"['HOT JOB', '2 Days Ago']\")\n",
      "('Accountant', 'Ashoka', 'Not disclosed', '3-4 Yrs', \"['Analytical skills', 'Tally', 'TDS', 'Payroll', 'Bank reconciliation', 'Accounting', 'Banking', 'MS Office tools']\", \"['6 Days Ago']\")\n",
      "('Senior Tax Accountant', 'Infoblox', 'Not disclosed', '3-7 Yrs', \"['ERP', 'Income tax', 'Sales tax', 'International taxation', 'GAAP', 'Security services', 'Oracle', 'Balance Sheet']\", \"['PREMIUM', '10 Days Ago']\")\n",
      "('Senior Financial Accountant - UK Accounting', 'Flex-i Partners    ', '25,00,000 - 30,00,000 PA.', '5-10 Yrs', \"['Direct Tax', 'Finance', 'Financial Accounting', 'VAT', 'Taxation', 'Tax Reporting', 'UK Accounting']\", \"['PREMIUM', '3 Days Ago']\")\n",
      "('Accountant', 'Homes under Budget', 'Not disclosed', '2-5 Yrs', \"['Analytical skills', 'Financial statements', 'Excel', 'Accounting', 'Finance', 'GAAP', 'Risk analysis', 'Forecasting']\", \"['2 Days Ago']\")\n"
     ]
    }
   ],
   "source": [
    "for i in items:\n",
    "    print(i)"
   ]
  },
  {
   "cell_type": "code",
   "execution_count": 116,
   "id": "c353235c",
   "metadata": {},
   "outputs": [],
   "source": [
    "def get_data2(j,datax,sou):\n",
    "    for jobs in j:\n",
    "        title = jobs.find(class_='title').text\n",
    "        Company = jobs.find(class_='subTitle').text\n",
    "        Salary = jobs.find(class_='salary').text\n",
    "        try:\n",
    "            Experience = jobs.find(class_='experience').text\n",
    "        except AttributeError:\n",
    "            Experience = ''\n",
    "        tags = []\n",
    "        for k in jobs.findAll(class_='fleft fs12 grey-text lh16 dot'):\n",
    "            tags.append(k.text)\n",
    "        date = jobs.findAll(class_='fleft fw500')\n",
    "        date = [i.text for i in date]\n",
    "        #print(title,Company,Salary,Experience,tags,date)\n",
    "        c.execute(\"INSERT INTO jobs VALUES (?,?,?,?,?,?)\",(str(title),str(Company),str(Salary),str(Experience),str(tags),str(date)))\n",
    "        datax = datax.append({\"Title\":title,\"Company\":Company,\"Salary\":Salary,\"Experience\":Experience,\"Requirements\":tags,\"Posted\":date},ignore_index=True)\n",
    "    #print(datax)\n",
    "    href = sou.findAll('a',class_=\"fright\",href=True)[0].get('href')\n",
    "    url = \"https://www.naukri.com\"+href\n",
    "    return url,datax  "
   ]
  },
  {
   "cell_type": "code",
   "execution_count": 33,
   "id": "07338676",
   "metadata": {},
   "outputs": [],
   "source": [
    "x = final_df[:1].values[0]"
   ]
  },
  {
   "cell_type": "code",
   "execution_count": 34,
   "id": "1da76bec",
   "metadata": {},
   "outputs": [
    {
     "data": {
      "text/plain": [
       "array(['Senior Accountant / Asst. Manager ', 'Informatica',\n",
       "       'Not disclosed', '4-7 Yrs',\n",
       "       list(['Fixed Assets', 'Statutory Audit', 'Icwa Inter', 'Accounting', 'Finance', 'Us Gaap', 'General Ledger', 'Bank Reconciliation']),\n",
       "       list(['PREMIUM', '1 Day Ago'])], dtype=object)"
      ]
     },
     "execution_count": 34,
     "metadata": {},
     "output_type": "execute_result"
    }
   ],
   "source": [
    "x"
   ]
  },
  {
   "cell_type": "code",
   "execution_count": 152,
   "id": "65dc3dbf",
   "metadata": {},
   "outputs": [],
   "source": [
    "j = {\"Data\":0,\"f\":1}"
   ]
  },
  {
   "cell_type": "code",
   "execution_count": 169,
   "id": "46d756ca",
   "metadata": {},
   "outputs": [],
   "source": [
    "k = [2, 7, 2, 2, 3, 3, 4, 5, 7, 7, 3, 5, 5, 14, 2, 3, 7]"
   ]
  },
  {
   "cell_type": "code",
   "execution_count": 170,
   "id": "39dfc5d3",
   "metadata": {},
   "outputs": [],
   "source": [
    "latest ={\"Latest\":0,\"This_week\":0,\"Older_than_a_week\":0}\n",
    "for i in k:\n",
    "    if i<=2:\n",
    "        latest[\"Latest\"]+=1\n",
    "    elif i<=8 and i>2:\n",
    "        latest[\"This_week\"]+=1\n",
    "    else:\n",
    "        latest[\"Older_than_a_week\"]+=1\n",
    "    "
   ]
  },
  {
   "cell_type": "code",
   "execution_count": 171,
   "id": "a72a6cd4",
   "metadata": {},
   "outputs": [],
   "source": [
    "latest = {\"labels\":list(latest.keys()),\"values\":list(latest.values())}"
   ]
  },
  {
   "cell_type": "code",
   "execution_count": 172,
   "id": "7a4a608d",
   "metadata": {},
   "outputs": [
    {
     "data": {
      "text/plain": [
       "{'labels': ['Latest', 'This_week', 'Older_than_a_week'], 'values': [4, 12, 1]}"
      ]
     },
     "execution_count": 172,
     "metadata": {},
     "output_type": "execute_result"
    }
   ],
   "source": [
    "latest"
   ]
  },
  {
   "cell_type": "code",
   "execution_count": 153,
   "id": "deca994f",
   "metadata": {},
   "outputs": [
    {
     "data": {
      "text/plain": [
       "(['Data', 'f'], [0, 1])"
      ]
     },
     "execution_count": 153,
     "metadata": {},
     "output_type": "execute_result"
    }
   ],
   "source": [
    "list(j.keys()),list(j.values())"
   ]
  },
  {
   "cell_type": "code",
   "execution_count": 81,
   "id": "7bce4993",
   "metadata": {},
   "outputs": [],
   "source": [
    "conn.close()"
   ]
  },
  {
   "cell_type": "code",
   "execution_count": 66,
   "id": "792a7cbb",
   "metadata": {},
   "outputs": [],
   "source": [
    "conn.close()"
   ]
  },
  {
   "cell_type": "code",
   "execution_count": 67,
   "id": "b93054cb",
   "metadata": {},
   "outputs": [],
   "source": [
    "conn.close()"
   ]
  },
  {
   "cell_type": "code",
   "execution_count": 68,
   "id": "df3856b1",
   "metadata": {},
   "outputs": [],
   "source": [
    "conn.close()"
   ]
  },
  {
   "cell_type": "code",
   "execution_count": 69,
   "id": "b2321f87",
   "metadata": {},
   "outputs": [],
   "source": [
    "conn.close()"
   ]
  },
  {
   "cell_type": "code",
   "execution_count": 64,
   "id": "2d9d496c",
   "metadata": {},
   "outputs": [],
   "source": [
    "conn.close()"
   ]
  },
  {
   "cell_type": "code",
   "execution_count": null,
   "id": "4ecd6b1a",
   "metadata": {},
   "outputs": [],
   "source": [
    "conn.close()"
   ]
  },
  {
   "cell_type": "code",
   "execution_count": 173,
   "id": "f5eb6efa",
   "metadata": {},
   "outputs": [],
   "source": [
    "import os"
   ]
  },
  {
   "cell_type": "code",
   "execution_count": 179,
   "id": "9d2829e1",
   "metadata": {},
   "outputs": [],
   "source": [
    "os.chdir('/')"
   ]
  },
  {
   "cell_type": "code",
   "execution_count": 180,
   "id": "c513161e",
   "metadata": {},
   "outputs": [
    {
     "data": {
      "text/plain": [
       "'.'"
      ]
     },
     "execution_count": 180,
     "metadata": {},
     "output_type": "execute_result"
    }
   ],
   "source": [
    "os.curdir"
   ]
  },
  {
   "cell_type": "code",
   "execution_count": null,
   "id": "3a2af40e",
   "metadata": {},
   "outputs": [],
   "source": []
  }
 ],
 "metadata": {
  "kernelspec": {
   "display_name": "Python 3",
   "language": "python",
   "name": "python3"
  },
  "language_info": {
   "codemirror_mode": {
    "name": "ipython",
    "version": 3
   },
   "file_extension": ".py",
   "mimetype": "text/x-python",
   "name": "python",
   "nbconvert_exporter": "python",
   "pygments_lexer": "ipython3",
   "version": "3.8.8"
  }
 },
 "nbformat": 4,
 "nbformat_minor": 5
}
