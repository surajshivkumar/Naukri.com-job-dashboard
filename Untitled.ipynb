{
 "cells": [
  {
   "cell_type": "code",
   "execution_count": 2,
   "id": "d51d0c16",
   "metadata": {},
   "outputs": [],
   "source": [
    "import sqlite3"
   ]
  },
  {
   "cell_type": "code",
   "execution_count": 10,
   "id": "04c1ad4e",
   "metadata": {},
   "outputs": [],
   "source": [
    "conn = sqlite3.connect('jobs.db')"
   ]
  },
  {
   "cell_type": "code",
   "execution_count": 4,
   "id": "65fc556e",
   "metadata": {},
   "outputs": [],
   "source": [
    "c = conn.cursor()"
   ]
  },
  {
   "cell_type": "code",
   "execution_count": null,
   "id": "97b22276",
   "metadata": {},
   "outputs": [],
   "source": [
    "data = pd.DataFrame(columns=['Title','Company','Salary','Experience','Requirements','Posted'])"
   ]
  },
  {
   "cell_type": "code",
   "execution_count": 14,
   "id": "465e1b50",
   "metadata": {},
   "outputs": [
    {
     "ename": "OperationalError",
     "evalue": "table jobs already exists",
     "output_type": "error",
     "traceback": [
      "\u001b[1;31m---------------------------------------------------------------------------\u001b[0m",
      "\u001b[1;31mOperationalError\u001b[0m                          Traceback (most recent call last)",
      "\u001b[1;32m<ipython-input-14-ab65f5e0fe13>\u001b[0m in \u001b[0;36m<module>\u001b[1;34m\u001b[0m\n\u001b[1;32m----> 1\u001b[1;33m c.execute(\"\"\" CREATE TABLE jobs(\n\u001b[0m\u001b[0;32m      2\u001b[0m               \u001b[0mTitle\u001b[0m \u001b[0mVARCHAR\u001b[0m\u001b[1;33m(\u001b[0m\u001b[1;36m100\u001b[0m\u001b[1;33m)\u001b[0m\u001b[1;33m,\u001b[0m\u001b[1;33m\u001b[0m\u001b[1;33m\u001b[0m\u001b[0m\n\u001b[0;32m      3\u001b[0m               \u001b[0mCompany\u001b[0m \u001b[0mVARCHAR\u001b[0m\u001b[1;33m(\u001b[0m\u001b[1;36m100\u001b[0m\u001b[1;33m)\u001b[0m\u001b[1;33m,\u001b[0m\u001b[1;33m\u001b[0m\u001b[1;33m\u001b[0m\u001b[0m\n\u001b[0;32m      4\u001b[0m               \u001b[0mSalary\u001b[0m  \u001b[0mVARCHAR\u001b[0m\u001b[1;33m(\u001b[0m\u001b[1;36m30\u001b[0m\u001b[1;33m)\u001b[0m\u001b[1;33m,\u001b[0m\u001b[1;33m\u001b[0m\u001b[1;33m\u001b[0m\u001b[0m\n\u001b[0;32m      5\u001b[0m               \u001b[0mExperience\u001b[0m \u001b[0mVARCHAR\u001b[0m\u001b[1;33m(\u001b[0m\u001b[1;36m40\u001b[0m\u001b[1;33m)\u001b[0m\u001b[1;33m,\u001b[0m\u001b[1;33m\u001b[0m\u001b[1;33m\u001b[0m\u001b[0m\n",
      "\u001b[1;31mOperationalError\u001b[0m: table jobs already exists"
     ]
    }
   ],
   "source": [
    "c.execute(\"\"\" CREATE TABLE jobs(\n",
    "              Title VARCHAR(100),\n",
    "              Company VARCHAR(100),\n",
    "              Salary  VARCHAR(30),\n",
    "              Experience VARCHAR(40),\n",
    "              Requirements VARCHAR(500),\n",
    "              Posted VARCHAR(20))\n",
    "            \"\"\")"
   ]
  },
  {
   "cell_type": "code",
   "execution_count": 6,
   "id": "8a0c8556",
   "metadata": {},
   "outputs": [],
   "source": [
    "conn.commit()"
   ]
  },
  {
   "cell_type": "code",
   "execution_count": 7,
   "id": "0df7868f",
   "metadata": {},
   "outputs": [],
   "source": [
    "conn.close()"
   ]
  },
  {
   "cell_type": "code",
   "execution_count": 34,
   "id": "e61dbc19",
   "metadata": {},
   "outputs": [],
   "source": [
    "from collections import Counter"
   ]
  },
  {
   "cell_type": "code",
   "execution_count": 35,
   "id": "56b9b24f",
   "metadata": {},
   "outputs": [],
   "source": [
    "f = ['fixed assets', 'statutory audit', 'icwa inter', 'accounting', 'finance', 'us gaap', 'general ledger', 'bank reconciliation', 'auditor', 'excel', 'accounts analyst', 'accounting', 'sez', 'taxation', 'ifrs', 'tax audit', 'accounts executive', 'tds', 'accountant', 'gst', 'auditing', 'accounting', 'internal audit', \n",
    "'accounts assistant', 'statutory audit', 'internal audit', 'financial reporting', 'sap', 'accounting', 'direct tax', 'chartered accountant', 'ind as', 'tax returns', 'income tax returns', 'accountant', 'accounting', 'accounts', 'tally', 'book keeping', 'tally', 'accounting', 'taxation', 'mcom', 'finance', 'loss', 'profit', 'mba', 'cost accounting', 'cost sheet', 'product costing', 'mis preparation', 'cost analysis', 'finance', 'reconciliation', 'cost sheet preparation', 'netsuite', 'accounts receivable', 'accounts payable', 'it skills', 'big data', 'corporate finance', 'ar', 'vendor payments', 'us gaap', 'financial reporting', 'general accounting', 'accounting', 'financial planning', 'trend','analysis', 'workflow', 'indirect taxation', 'p', 'tally software', 'accounting', 'ms office', 'journal entries', 'sales tax', 'billing', 'gaap', 'cash flow', 'cash management', 'forecasting', 'balance sheet', 'oral communication', 'written', 'revenue accounting', 'salesforce com', 'excel', 'it skills', 'cloud', 'rpa', 'accounts payable', 'accounting', 'us gaap', 'financial reporting', 'general accounting', 'accounting', 'financial planning', 'trend analysis', 'workflow', 'indirect taxation', 'accounting', 'chartered accountant', 'finance & accounts', 'book keeping', 'financial planning', 'financial analysis', 'statutory audit', 'accounting', 'chartered accountant', 'taxation', 'bcom', 'tally', 'accounting functions', 'finance', 'statutory audit', 'general accounting', 'account management', 'internal audit', 'tds', 'external audit', 'quick books', 'financial management', 'tds', 'accounting', 'gaap', 'gst', 'accounts receivable', 'accounts payable', 'analytical skills', 'tally', 'tds', 'payroll', 'bank reconciliation', 'accounting', 'banking', 'ms office tools']"
   ]
  },
  {
   "cell_type": "code",
   "execution_count": 42,
   "id": "b01ccb9d",
   "metadata": {},
   "outputs": [],
   "source": [
    "f = dict(Counter(f))"
   ]
  },
  {
   "cell_type": "code",
   "execution_count": 43,
   "id": "4b2a3465",
   "metadata": {},
   "outputs": [],
   "source": []
  },
  {
   "cell_type": "code",
   "execution_count": 47,
   "id": "9274f593",
   "metadata": {},
   "outputs": [],
   "source": [
    "g = []\n",
    "for i in f.items():\n",
    "    g.append({'name':i[0],'value':i[1]})"
   ]
  },
  {
   "cell_type": "code",
   "execution_count": 48,
   "id": "5c96cae0",
   "metadata": {},
   "outputs": [
    {
     "data": {
      "text/plain": [
       "[{'name': 'fixed assets', 'value': 1},\n",
       " {'name': 'statutory audit', 'value': 4},\n",
       " {'name': 'icwa inter', 'value': 1},\n",
       " {'name': 'accounting', 'value': 14},\n",
       " {'name': 'finance', 'value': 4},\n",
       " {'name': 'us gaap', 'value': 3},\n",
       " {'name': 'general ledger', 'value': 1},\n",
       " {'name': 'bank reconciliation', 'value': 2},\n",
       " {'name': 'auditor', 'value': 1},\n",
       " {'name': 'excel', 'value': 2},\n",
       " {'name': 'accounts analyst', 'value': 1},\n",
       " {'name': 'sez', 'value': 1},\n",
       " {'name': 'taxation', 'value': 3},\n",
       " {'name': 'ifrs', 'value': 1},\n",
       " {'name': 'tax audit', 'value': 1},\n",
       " {'name': 'accounts executive', 'value': 1},\n",
       " {'name': 'tds', 'value': 4},\n",
       " {'name': 'accountant', 'value': 2},\n",
       " {'name': 'gst', 'value': 2},\n",
       " {'name': 'auditing', 'value': 1},\n",
       " {'name': 'internal audit', 'value': 3},\n",
       " {'name': 'accounts assistant', 'value': 1},\n",
       " {'name': 'financial reporting', 'value': 3},\n",
       " {'name': 'sap', 'value': 1},\n",
       " {'name': 'direct tax', 'value': 1},\n",
       " {'name': 'chartered accountant', 'value': 3},\n",
       " {'name': 'ind as', 'value': 1},\n",
       " {'name': 'tax returns', 'value': 1},\n",
       " {'name': 'income tax returns', 'value': 1},\n",
       " {'name': 'accounts', 'value': 1},\n",
       " {'name': 'tally', 'value': 4},\n",
       " {'name': 'book keeping', 'value': 2},\n",
       " {'name': 'mcom', 'value': 1},\n",
       " {'name': 'loss', 'value': 1},\n",
       " {'name': 'profit', 'value': 1},\n",
       " {'name': 'mba', 'value': 1},\n",
       " {'name': 'cost accounting', 'value': 1},\n",
       " {'name': 'cost sheet', 'value': 1},\n",
       " {'name': 'product costing', 'value': 1},\n",
       " {'name': 'mis preparation', 'value': 1},\n",
       " {'name': 'cost analysis', 'value': 1},\n",
       " {'name': 'reconciliation', 'value': 1},\n",
       " {'name': 'cost sheet preparation', 'value': 1},\n",
       " {'name': 'netsuite', 'value': 1},\n",
       " {'name': 'accounts receivable', 'value': 2},\n",
       " {'name': 'accounts payable', 'value': 3},\n",
       " {'name': 'it skills', 'value': 2},\n",
       " {'name': 'big data', 'value': 1},\n",
       " {'name': 'corporate finance', 'value': 1},\n",
       " {'name': 'ar', 'value': 1},\n",
       " {'name': 'vendor payments', 'value': 1},\n",
       " {'name': 'general accounting', 'value': 3},\n",
       " {'name': 'financial planning', 'value': 3},\n",
       " {'name': 'trend', 'value': 1},\n",
       " {'name': 'analysis', 'value': 1},\n",
       " {'name': 'workflow', 'value': 2},\n",
       " {'name': 'indirect taxation', 'value': 2},\n",
       " {'name': 'p', 'value': 1},\n",
       " {'name': 'tally software', 'value': 1},\n",
       " {'name': 'ms office', 'value': 1},\n",
       " {'name': 'journal entries', 'value': 1},\n",
       " {'name': 'sales tax', 'value': 1},\n",
       " {'name': 'billing', 'value': 1},\n",
       " {'name': 'gaap', 'value': 2},\n",
       " {'name': 'cash flow', 'value': 1},\n",
       " {'name': 'cash management', 'value': 1},\n",
       " {'name': 'forecasting', 'value': 1},\n",
       " {'name': 'balance sheet', 'value': 1},\n",
       " {'name': 'oral communication', 'value': 1},\n",
       " {'name': 'written', 'value': 1},\n",
       " {'name': 'revenue accounting', 'value': 1},\n",
       " {'name': 'salesforce com', 'value': 1},\n",
       " {'name': 'cloud', 'value': 1},\n",
       " {'name': 'rpa', 'value': 1},\n",
       " {'name': 'trend analysis', 'value': 1},\n",
       " {'name': 'finance & accounts', 'value': 1},\n",
       " {'name': 'financial analysis', 'value': 1},\n",
       " {'name': 'bcom', 'value': 1},\n",
       " {'name': 'accounting functions', 'value': 1},\n",
       " {'name': 'account management', 'value': 1},\n",
       " {'name': 'external audit', 'value': 1},\n",
       " {'name': 'quick books', 'value': 1},\n",
       " {'name': 'financial management', 'value': 1},\n",
       " {'name': 'analytical skills', 'value': 1},\n",
       " {'name': 'payroll', 'value': 1},\n",
       " {'name': 'banking', 'value': 1},\n",
       " {'name': 'ms office tools', 'value': 1}]"
      ]
     },
     "execution_count": 48,
     "metadata": {},
     "output_type": "execute_result"
    }
   ],
   "source": [
    "g"
   ]
  },
  {
   "cell_type": "code",
   "execution_count": 11,
   "id": "d6a58d26",
   "metadata": {},
   "outputs": [],
   "source": [
    "c = conn.cursor()"
   ]
  },
  {
   "cell_type": "code",
   "execution_count": 17,
   "id": "500461f0",
   "metadata": {},
   "outputs": [
    {
     "data": {
      "text/plain": [
       "<sqlite3.Cursor at 0x221c0d418f0>"
      ]
     },
     "execution_count": 17,
     "metadata": {},
     "output_type": "execute_result"
    }
   ],
   "source": [
    "c.execute(\"INSERT INTO jobs VALUES ('Doctor','Aster','[20000]','[4-9]','[12,45]','[4 days ago]')\")"
   ]
  },
  {
   "cell_type": "code",
   "execution_count": 28,
   "id": "497b7719",
   "metadata": {},
   "outputs": [
    {
     "data": {
      "text/plain": [
       "<sqlite3.Cursor at 0x221c0d418f0>"
      ]
     },
     "execution_count": 28,
     "metadata": {},
     "output_type": "execute_result"
    }
   ],
   "source": [
    "c.execute(\"SELECT * FROM jobs\")"
   ]
  },
  {
   "cell_type": "code",
   "execution_count": 29,
   "id": "0e33b2fe",
   "metadata": {},
   "outputs": [],
   "source": [
    "items = c.fetchall()"
   ]
  },
  {
   "cell_type": "code",
   "execution_count": 33,
   "id": "c77809e1",
   "metadata": {},
   "outputs": [
    {
     "name": "stdout",
     "output_type": "stream",
     "text": [
      "('Doctor', 'Aster', '[20000]', '[4-9]', '[12,45]', '[4 days ago]')\n"
     ]
    }
   ],
   "source": [
    "for i in items:\n",
    "    print(i)"
   ]
  },
  {
   "cell_type": "code",
   "execution_count": null,
   "id": "b0aca307",
   "metadata": {},
   "outputs": [],
   "source": []
  }
 ],
 "metadata": {
  "kernelspec": {
   "display_name": "Python 3",
   "language": "python",
   "name": "python3"
  },
  "language_info": {
   "codemirror_mode": {
    "name": "ipython",
    "version": 3
   },
   "file_extension": ".py",
   "mimetype": "text/x-python",
   "name": "python",
   "nbconvert_exporter": "python",
   "pygments_lexer": "ipython3",
   "version": "3.8.8"
  }
 },
 "nbformat": 4,
 "nbformat_minor": 5
}
